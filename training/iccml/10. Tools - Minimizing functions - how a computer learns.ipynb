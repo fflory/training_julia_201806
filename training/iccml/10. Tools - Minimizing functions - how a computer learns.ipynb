{
 "cells": [
  {
   "cell_type": "markdown",
   "metadata": {},
   "source": [
    "# Minimizing functions - how a computer learns"
   ]
  },
  {
   "cell_type": "markdown",
   "metadata": {},
   "source": [
    "In the previous notebooks, we've seen that by changing **parameters** in a function, we could find a \"best fit\" of that function to some data. We use a **loss function** to quantify the \"goodness\" of a set of parameters and we look for those parameters that **optimize**, in fact **minimize**, the loss function. If we teach a machine how to minimize the loss function on its own, we say that machine is able to **learn** how to model our data.\n",
    "\n",
    "In the last notebook, we threw around terms like **derivative**, **gradient**, and **gradient descent** to give you a rough sense of how we minimize a function on a computer. In this notebook, we will step through these concepts more carefully, with the aim of being able to implement them using Julia."
   ]
  },
  {
   "cell_type": "markdown",
   "metadata": {},
   "source": [
    "## Minimizing a 1D function using calculus"
   ]
  },
  {
   "cell_type": "markdown",
   "metadata": {},
   "source": [
    "Let's draw the 1D loss function $L_1$ from a previous notebook again:"
   ]
  },
  {
   "cell_type": "code",
   "execution_count": 5,
   "metadata": {},
   "outputs": [
    {
     "data": {
      "text/plain": [
       "L1 (generic function with 1 method)"
      ]
     },
     "execution_count": 5,
     "metadata": {},
     "output_type": "execute_result"
    }
   ],
   "source": [
    "σ(x) = 1 / (1 + exp(-x))\n",
    "f(x, w) = σ(w * x)\n",
    "\n",
    "x1 = 2\n",
    "y1 = 0.8\n",
    "\n",
    "L1(w) = (y1 - f(x1, w))^2"
   ]
  },
  {
   "cell_type": "code",
   "execution_count": 6,
   "metadata": {},
   "outputs": [],
   "source": [
    "using Plots; gr()\n",
    "using Interact"
   ]
  },
  {
   "cell_type": "code",
   "execution_count": 7,
   "metadata": {},
   "outputs": [
    {
     "data": {
      "image/svg+xml": [
       "<?xml version=\"1.0\" encoding=\"utf-8\"?>\n",
       "<svg xmlns=\"http://www.w3.org/2000/svg\" xmlns:xlink=\"http://www.w3.org/1999/xlink\" width=\"600\" height=\"400\" viewBox=\"0 0 600 400\">\n",
       "<defs>\n",
       "  <clipPath id=\"clip00\">\n",
       "    <rect x=\"0\" y=\"0\" width=\"600\" height=\"400\"/>\n",
       "  </clipPath>\n",
       "</defs>\n",
       "<polygon clip-path=\"url(#clip00)\" points=\"\n",
       "0,400 600,400 600,0 0,0 \n",
       "  \" fill=\"#ffffff\" fill-opacity=\"1\"/>\n",
       "<defs>\n",
       "  <clipPath id=\"clip01\">\n",
       "    <rect x=\"120\" y=\"0\" width=\"421\" height=\"400\"/>\n",
       "  </clipPath>\n",
       "</defs>\n",
       "<polygon clip-path=\"url(#clip00)\" points=\"\n",
       "47.9701,360.065 580.315,360.065 580.315,11.811 47.9701,11.811 \n",
       "  \" fill=\"#ffffff\" fill-opacity=\"1\"/>\n",
       "<defs>\n",
       "  <clipPath id=\"clip02\">\n",
       "    <rect x=\"47\" y=\"11\" width=\"533\" height=\"349\"/>\n",
       "  </clipPath>\n",
       "</defs>\n",
       "<polyline clip-path=\"url(#clip02)\" style=\"stroke:#00002d; stroke-width:0.4; stroke-opacity:0.1; fill:none\" points=\"\n",
       "  120.45,360.065 120.45,11.811 \n",
       "  \"/>\n",
       "<polyline clip-path=\"url(#clip02)\" style=\"stroke:#00002d; stroke-width:0.4; stroke-opacity:0.1; fill:none\" points=\"\n",
       "  198.247,360.065 198.247,11.811 \n",
       "  \"/>\n",
       "<polyline clip-path=\"url(#clip02)\" style=\"stroke:#00002d; stroke-width:0.4; stroke-opacity:0.1; fill:none\" points=\"\n",
       "  276.045,360.065 276.045,11.811 \n",
       "  \"/>\n",
       "<polyline clip-path=\"url(#clip02)\" style=\"stroke:#00002d; stroke-width:0.4; stroke-opacity:0.1; fill:none\" points=\"\n",
       "  353.843,360.065 353.843,11.811 \n",
       "  \"/>\n",
       "<polyline clip-path=\"url(#clip02)\" style=\"stroke:#00002d; stroke-width:0.4; stroke-opacity:0.1; fill:none\" points=\"\n",
       "  431.641,360.065 431.641,11.811 \n",
       "  \"/>\n",
       "<polyline clip-path=\"url(#clip02)\" style=\"stroke:#00002d; stroke-width:0.4; stroke-opacity:0.1; fill:none\" points=\"\n",
       "  509.438,360.065 509.438,11.811 \n",
       "  \"/>\n",
       "<polyline clip-path=\"url(#clip02)\" style=\"stroke:#00002d; stroke-width:0.4; stroke-opacity:0.1; fill:none\" points=\"\n",
       "  47.9701,303.102 580.315,303.102 \n",
       "  \"/>\n",
       "<polyline clip-path=\"url(#clip02)\" style=\"stroke:#00002d; stroke-width:0.4; stroke-opacity:0.1; fill:none\" points=\"\n",
       "  47.9701,245.941 580.315,245.941 \n",
       "  \"/>\n",
       "<polyline clip-path=\"url(#clip02)\" style=\"stroke:#00002d; stroke-width:0.4; stroke-opacity:0.1; fill:none\" points=\"\n",
       "  47.9701,188.779 580.315,188.779 \n",
       "  \"/>\n",
       "<polyline clip-path=\"url(#clip02)\" style=\"stroke:#00002d; stroke-width:0.4; stroke-opacity:0.1; fill:none\" points=\"\n",
       "  47.9701,131.618 580.315,131.618 \n",
       "  \"/>\n",
       "<polyline clip-path=\"url(#clip02)\" style=\"stroke:#00002d; stroke-width:0.4; stroke-opacity:0.1; fill:none\" points=\"\n",
       "  47.9701,74.4569 580.315,74.4569 \n",
       "  \"/>\n",
       "<polyline clip-path=\"url(#clip02)\" style=\"stroke:#00002d; stroke-width:0.4; stroke-opacity:0.1; fill:none\" points=\"\n",
       "  47.9701,17.2957 580.315,17.2957 \n",
       "  \"/>\n",
       "<polyline clip-path=\"url(#clip00)\" style=\"stroke:#00002d; stroke-width:0.8; stroke-opacity:1; fill:none\" points=\"\n",
       "  47.9701,360.065 580.315,360.065 \n",
       "  \"/>\n",
       "<polyline clip-path=\"url(#clip00)\" style=\"stroke:#00002d; stroke-width:0.8; stroke-opacity:1; fill:none\" points=\"\n",
       "  47.9701,360.065 47.9701,11.811 \n",
       "  \"/>\n",
       "<polyline clip-path=\"url(#clip00)\" style=\"stroke:#00002d; stroke-width:0.8; stroke-opacity:1; fill:none\" points=\"\n",
       "  120.45,360.065 120.45,354.842 \n",
       "  \"/>\n",
       "<polyline clip-path=\"url(#clip00)\" style=\"stroke:#00002d; stroke-width:0.8; stroke-opacity:1; fill:none\" points=\"\n",
       "  198.247,360.065 198.247,354.842 \n",
       "  \"/>\n",
       "<polyline clip-path=\"url(#clip00)\" style=\"stroke:#00002d; stroke-width:0.8; stroke-opacity:1; fill:none\" points=\"\n",
       "  276.045,360.065 276.045,354.842 \n",
       "  \"/>\n",
       "<polyline clip-path=\"url(#clip00)\" style=\"stroke:#00002d; stroke-width:0.8; stroke-opacity:1; fill:none\" points=\"\n",
       "  353.843,360.065 353.843,354.842 \n",
       "  \"/>\n",
       "<polyline clip-path=\"url(#clip00)\" style=\"stroke:#00002d; stroke-width:0.8; stroke-opacity:1; fill:none\" points=\"\n",
       "  431.641,360.065 431.641,354.842 \n",
       "  \"/>\n",
       "<polyline clip-path=\"url(#clip00)\" style=\"stroke:#00002d; stroke-width:0.8; stroke-opacity:1; fill:none\" points=\"\n",
       "  509.438,360.065 509.438,354.842 \n",
       "  \"/>\n",
       "<polyline clip-path=\"url(#clip00)\" style=\"stroke:#00002d; stroke-width:0.8; stroke-opacity:1; fill:none\" points=\"\n",
       "  47.9701,303.102 55.9553,303.102 \n",
       "  \"/>\n",
       "<polyline clip-path=\"url(#clip00)\" style=\"stroke:#00002d; stroke-width:0.8; stroke-opacity:1; fill:none\" points=\"\n",
       "  47.9701,245.941 55.9553,245.941 \n",
       "  \"/>\n",
       "<polyline clip-path=\"url(#clip00)\" style=\"stroke:#00002d; stroke-width:0.8; stroke-opacity:1; fill:none\" points=\"\n",
       "  47.9701,188.779 55.9553,188.779 \n",
       "  \"/>\n",
       "<polyline clip-path=\"url(#clip00)\" style=\"stroke:#00002d; stroke-width:0.8; stroke-opacity:1; fill:none\" points=\"\n",
       "  47.9701,131.618 55.9553,131.618 \n",
       "  \"/>\n",
       "<polyline clip-path=\"url(#clip00)\" style=\"stroke:#00002d; stroke-width:0.8; stroke-opacity:1; fill:none\" points=\"\n",
       "  47.9701,74.4569 55.9553,74.4569 \n",
       "  \"/>\n",
       "<polyline clip-path=\"url(#clip00)\" style=\"stroke:#00002d; stroke-width:0.8; stroke-opacity:1; fill:none\" points=\"\n",
       "  47.9701,17.2957 55.9553,17.2957 \n",
       "  \"/>\n",
       "<g clip-path=\"url(#clip00)\">\n",
       "<text style=\"fill:#00002d; fill-opacity:1; font-family:Arial,Helvetica Neue,Helvetica,sans-serif; font-size:12; text-anchor:middle;\" transform=\"rotate(0, 120.45, 373.865)\" x=\"120.45\" y=\"373.865\">-1.5</text>\n",
       "</g>\n",
       "<g clip-path=\"url(#clip00)\">\n",
       "<text style=\"fill:#00002d; fill-opacity:1; font-family:Arial,Helvetica Neue,Helvetica,sans-serif; font-size:12; text-anchor:middle;\" transform=\"rotate(0, 198.247, 373.865)\" x=\"198.247\" y=\"373.865\">-1.0</text>\n",
       "</g>\n",
       "<g clip-path=\"url(#clip00)\">\n",
       "<text style=\"fill:#00002d; fill-opacity:1; font-family:Arial,Helvetica Neue,Helvetica,sans-serif; font-size:12; text-anchor:middle;\" transform=\"rotate(0, 276.045, 373.865)\" x=\"276.045\" y=\"373.865\">-0.5</text>\n",
       "</g>\n",
       "<g clip-path=\"url(#clip00)\">\n",
       "<text style=\"fill:#00002d; fill-opacity:1; font-family:Arial,Helvetica Neue,Helvetica,sans-serif; font-size:12; text-anchor:middle;\" transform=\"rotate(0, 353.843, 373.865)\" x=\"353.843\" y=\"373.865\">0.0</text>\n",
       "</g>\n",
       "<g clip-path=\"url(#clip00)\">\n",
       "<text style=\"fill:#00002d; fill-opacity:1; font-family:Arial,Helvetica Neue,Helvetica,sans-serif; font-size:12; text-anchor:middle;\" transform=\"rotate(0, 431.641, 373.865)\" x=\"431.641\" y=\"373.865\">0.5</text>\n",
       "</g>\n",
       "<g clip-path=\"url(#clip00)\">\n",
       "<text style=\"fill:#00002d; fill-opacity:1; font-family:Arial,Helvetica Neue,Helvetica,sans-serif; font-size:12; text-anchor:middle;\" transform=\"rotate(0, 509.438, 373.865)\" x=\"509.438\" y=\"373.865\">1.0</text>\n",
       "</g>\n",
       "<g clip-path=\"url(#clip00)\">\n",
       "<text style=\"fill:#00002d; fill-opacity:1; font-family:Arial,Helvetica Neue,Helvetica,sans-serif; font-size:12; text-anchor:end;\" transform=\"rotate(0, 41.9701, 307.602)\" x=\"41.9701\" y=\"307.602\">0.1</text>\n",
       "</g>\n",
       "<g clip-path=\"url(#clip00)\">\n",
       "<text style=\"fill:#00002d; fill-opacity:1; font-family:Arial,Helvetica Neue,Helvetica,sans-serif; font-size:12; text-anchor:end;\" transform=\"rotate(0, 41.9701, 250.441)\" x=\"41.9701\" y=\"250.441\">0.2</text>\n",
       "</g>\n",
       "<g clip-path=\"url(#clip00)\">\n",
       "<text style=\"fill:#00002d; fill-opacity:1; font-family:Arial,Helvetica Neue,Helvetica,sans-serif; font-size:12; text-anchor:end;\" transform=\"rotate(0, 41.9701, 193.279)\" x=\"41.9701\" y=\"193.279\">0.3</text>\n",
       "</g>\n",
       "<g clip-path=\"url(#clip00)\">\n",
       "<text style=\"fill:#00002d; fill-opacity:1; font-family:Arial,Helvetica Neue,Helvetica,sans-serif; font-size:12; text-anchor:end;\" transform=\"rotate(0, 41.9701, 136.118)\" x=\"41.9701\" y=\"136.118\">0.4</text>\n",
       "</g>\n",
       "<g clip-path=\"url(#clip00)\">\n",
       "<text style=\"fill:#00002d; fill-opacity:1; font-family:Arial,Helvetica Neue,Helvetica,sans-serif; font-size:12; text-anchor:end;\" transform=\"rotate(0, 41.9701, 78.9569)\" x=\"41.9701\" y=\"78.9569\">0.5</text>\n",
       "</g>\n",
       "<g clip-path=\"url(#clip00)\">\n",
       "<text style=\"fill:#00002d; fill-opacity:1; font-family:Arial,Helvetica Neue,Helvetica,sans-serif; font-size:12; text-anchor:end;\" transform=\"rotate(0, 41.9701, 21.7957)\" x=\"41.9701\" y=\"21.7957\">0.6</text>\n",
       "</g>\n",
       "<g clip-path=\"url(#clip00)\">\n",
       "<text style=\"fill:#00002d; fill-opacity:1; font-family:Arial,Helvetica Neue,Helvetica,sans-serif; font-size:16; text-anchor:middle;\" transform=\"rotate(0, 314.143, 397.6)\" x=\"314.143\" y=\"397.6\">w</text>\n",
       "</g>\n",
       "<g clip-path=\"url(#clip00)\">\n",
       "<text style=\"fill:#00002d; fill-opacity:1; font-family:Arial,Helvetica Neue,Helvetica,sans-serif; font-size:16; text-anchor:middle;\" transform=\"rotate(-90, 14.4, 185.938)\" x=\"14.4\" y=\"185.938\">L1(w)</text>\n",
       "</g>\n",
       "<polyline clip-path=\"url(#clip02)\" style=\"stroke:#0099ff; stroke-width:0.8; stroke-opacity:1; fill:none\" points=\"\n",
       "  47.9701,11.811 97.1456,26.2543 111.922,32.4523 126.698,39.7499 139.191,46.8884 151.684,55.0113 165.255,65.0537 178.826,76.4643 191.337,88.267 203.849,101.342 \n",
       "  217.262,116.779 230.676,133.64 246.216,154.799 261.757,177.399 289.379,219.602 313.6,256.281 326.804,275.085 340.008,292.487 353.291,308.208 366.573,321.865 \n",
       "  381.259,334.378 395.944,344.146 409.917,351.011 423.89,355.738 452.947,360.065 477.407,359.736 507.27,356.8 535.342,353.148 580.315,347.677 \n",
       "  \"/>\n",
       "</svg>\n"
      ]
     },
     "execution_count": 7,
     "metadata": {},
     "output_type": "execute_result"
    }
   ],
   "source": [
    "plot(L1, -2, 1.5, xlabel=\"w\", ylabel=\"L1(w)\", leg=false)"
   ]
  },
  {
   "cell_type": "markdown",
   "metadata": {},
   "source": [
    "By eye, we can see that the minimum is around $w=0.6$. But how can we get the computer to work this out on its own?"
   ]
  },
  {
   "cell_type": "markdown",
   "metadata": {},
   "source": [
    "In the previous notebook, we thought of this function plot as a hill, viewed from the side. We could find the minimum by making the hill sticky, and letting a ball roll down it. The ball will find and settle in the minimum of the function.  Now let's see how to teach a computer to do this.\n",
    "\n",
    "We need to find the downhill direction along the hill, which is related to its *slope* (how steep it is). Calculus provides us with tools to calculate that slope!"
   ]
  },
  {
   "cell_type": "markdown",
   "metadata": {},
   "source": [
    "Namely, the slope of a curve $L_1(w)$ at $w$ is given by its **derivative** $L_1'(w)$; geometrically, this is the slope of the **tangent line** to the curve at that point, i.e. the straight line which touches the curve at that point."
   ]
  },
  {
   "cell_type": "markdown",
   "metadata": {},
   "source": [
    "Calculus provides us with some rules to calculate an analytical formula for the derivative, and we will see later how to apply these rules, albeit indirectly, for machine learning. \n",
    "To gain understanding, however, we will see here how to get the computer to help us out by calculating the derivatives numerically instead!"
   ]
  },
  {
   "cell_type": "markdown",
   "metadata": {},
   "source": [
    "## Approximating derivatives"
   ]
  },
  {
   "cell_type": "markdown",
   "metadata": {},
   "source": [
    "Let's recall that the derivative $L_1'(w)$ of a function is defined as\n",
    "\n",
    "$$L_1'(w) \\simeq \\frac{L_1(w+h) - L_1(w)}{h},$$\n",
    "\n",
    "for a small step size $h$. (Strictly speaking, we must take the limit when $h$ tends to $0$ to obtain the exact value of the derivative.)"
   ]
  },
  {
   "cell_type": "markdown",
   "metadata": {},
   "source": [
    "#### Exercise 1\n",
    "\n",
    "Write a function to calculate the derivative of a function at a given point. Note that in Julia, we can easily pass functions as arguments to other functions!\n",
    "The function should take the function, the point $w$ at which to calculate the derivative, and the value of $h$, which should have a default value of 0.001.\n",
    "\n",
    "*Note*: A function input argument can have a *default value* if we set the input argument equal to that default value when we define the function. For example,\n",
    "\n",
    "```julia\n",
    "f(x, a = 3) = a * x^2\n",
    "```\n",
    "\n",
    "The function `f` will square the input we give it and multiply by `a`. However,  if we choose to call `f(x)` *without* passing it an `a` input, it will assume `a` is `3` and return `3*x^2`."
   ]
  },
  {
   "cell_type": "markdown",
   "metadata": {},
   "source": [
    "#### Solution\n",
    "\n",
    "We could define the `derivative` function as\n",
    "\n",
    "```julia\n",
    "function derivative(f, w, h=0.001)\n",
    "    return ( f(w + h) - f(w) ) / h\n",
    "end\n",
    "```\n",
    "\n",
    "or, using the short form for a function definition, \n",
    "\n",
    "```julia\n",
    "derivative(f, w, h=0.001) = ( f(w + h) - f(w) ) / h\n",
    "```\n",
    "\n",
    "Here are some tests:\n",
    "```julia\n",
    "derivative(x->x^2, 0.2) ≈ 0.401    # check default h works\n",
    "derivative(x->x^2, 0.2, 0.5) ≈ .9  # check we can specify our own h\n",
    "derivative(x->x^3, 0.2) ≈ 0.120601\n",
    "derivative(x->x^3, -0.2) ≈ 0.119401\n",
    "```"
   ]
  },
  {
   "cell_type": "code",
   "execution_count": 11,
   "metadata": {},
   "outputs": [
    {
     "data": {
      "text/plain": [
       "derivative (generic function with 2 methods)"
      ]
     },
     "execution_count": 11,
     "metadata": {},
     "output_type": "execute_result"
    }
   ],
   "source": [
    "function derivative(f, w, h=0.001)\n",
    "    return ( f(w + h) - f(w) ) / h\n",
    "end"
   ]
  },
  {
   "cell_type": "markdown",
   "metadata": {},
   "source": [
    "#### Exercise 2\n",
    "\n",
    "Write an interactive visualization of the tangent line to the graph of $L_1$, so that we can visualize the tangent at any point on $L_1$. Include the current value of the derivative in the title.\n",
    "\n",
    "*Hint*: Recall that the straight line through the point $(x_0, y_0)$ with slope $m$ is given by\n",
    "\n",
    "$$ \\frac{y - y_0}{x - x_0} = m,$$\n",
    "\n",
    "so \n",
    "\n",
    "$$y = y_0 + m*(x - x_0).$$"
   ]
  },
  {
   "cell_type": "markdown",
   "metadata": {},
   "source": [
    "#### Solution"
   ]
  },
  {
   "cell_type": "code",
   "execution_count": 13,
   "metadata": {},
   "outputs": [
    {
     "data": {
      "application/vnd.jupyter.widget-view+json": {
       "model_id": "a4ac3c9b-c191-4693-aa94-56f81647f2b4",
       "version_major": 2,
       "version_minor": 0
      }
     },
     "metadata": {},
     "output_type": "display_data"
    },
    {
     "data": {
      "text/html": [],
      "text/plain": [
       "Interact.Options{:SelectionSlider,Float64}(13: \"input-6\" = -0.5 Float64 , \"w\", -0.5, \"-0.5\", 151, Interact.OptionDict(DataStructures.OrderedDict(\"-2.0\"=>-2.0,\"-1.99\"=>-1.99,\"-1.98\"=>-1.98,\"-1.97\"=>-1.97,\"-1.96\"=>-1.96,\"-1.95\"=>-1.95,\"-1.94\"=>-1.94,\"-1.93\"=>-1.93,\"-1.92\"=>-1.92,\"-1.91\"=>-1.91…), Dict(-0.92=>\"-0.92\",-0.22=>\"-0.22\",-1.78=>\"-1.78\",-1.23=>\"-1.23\",0.22=>\"0.22\",-1.16=>\"-1.16\",0.2=>\"0.2\",0.89=>\"0.89\",0.48=>\"0.48\",-0.8=>\"-0.8\"…)), Any[], Any[], true, \"horizontal\", true)"
      ]
     },
     "metadata": {},
     "output_type": "display_data"
    },
    {
     "data": {
      "image/svg+xml": [
       "<?xml version=\"1.0\" encoding=\"utf-8\"?>\n",
       "<svg xmlns=\"http://www.w3.org/2000/svg\" xmlns:xlink=\"http://www.w3.org/1999/xlink\" width=\"600\" height=\"400\" viewBox=\"0 0 600 400\">\n",
       "<defs>\n",
       "  <clipPath id=\"clip00\">\n",
       "    <rect x=\"0\" y=\"0\" width=\"600\" height=\"400\"/>\n",
       "  </clipPath>\n",
       "</defs>\n",
       "<polygon clip-path=\"url(#clip00)\" points=\"\n",
       "0,400 600,400 600,0 0,0 \n",
       "  \" fill=\"#ffffff\" fill-opacity=\"1\"/>\n",
       "<defs>\n",
       "  <clipPath id=\"clip01\">\n",
       "    <rect x=\"120\" y=\"0\" width=\"421\" height=\"400\"/>\n",
       "  </clipPath>\n",
       "</defs>\n",
       "<polygon clip-path=\"url(#clip00)\" points=\"\n",
       "54.8916,360.065 580.315,360.065 580.315,31.4961 54.8916,31.4961 \n",
       "  \" fill=\"#ffffff\" fill-opacity=\"1\"/>\n",
       "<defs>\n",
       "  <clipPath id=\"clip02\">\n",
       "    <rect x=\"54\" y=\"31\" width=\"526\" height=\"329\"/>\n",
       "  </clipPath>\n",
       "</defs>\n",
       "<polyline clip-path=\"url(#clip02)\" style=\"stroke:#00002d; stroke-width:0.4; stroke-opacity:0.1; fill:none\" points=\"\n",
       "  54.8916,360.065 54.8916,31.4961 \n",
       "  \"/>\n",
       "<polyline clip-path=\"url(#clip02)\" style=\"stroke:#00002d; stroke-width:0.4; stroke-opacity:0.1; fill:none\" points=\"\n",
       "  230.033,360.065 230.033,31.4961 \n",
       "  \"/>\n",
       "<polyline clip-path=\"url(#clip02)\" style=\"stroke:#00002d; stroke-width:0.4; stroke-opacity:0.1; fill:none\" points=\"\n",
       "  405.174,360.065 405.174,31.4961 \n",
       "  \"/>\n",
       "<polyline clip-path=\"url(#clip02)\" style=\"stroke:#00002d; stroke-width:0.4; stroke-opacity:0.1; fill:none\" points=\"\n",
       "  580.315,360.065 580.315,31.4961 \n",
       "  \"/>\n",
       "<polyline clip-path=\"url(#clip02)\" style=\"stroke:#00002d; stroke-width:0.4; stroke-opacity:0.1; fill:none\" points=\"\n",
       "  54.8916,360.065 580.315,360.065 \n",
       "  \"/>\n",
       "<polyline clip-path=\"url(#clip02)\" style=\"stroke:#00002d; stroke-width:0.4; stroke-opacity:0.1; fill:none\" points=\"\n",
       "  54.8916,313.127 580.315,313.127 \n",
       "  \"/>\n",
       "<polyline clip-path=\"url(#clip02)\" style=\"stroke:#00002d; stroke-width:0.4; stroke-opacity:0.1; fill:none\" points=\"\n",
       "  54.8916,266.188 580.315,266.188 \n",
       "  \"/>\n",
       "<polyline clip-path=\"url(#clip02)\" style=\"stroke:#00002d; stroke-width:0.4; stroke-opacity:0.1; fill:none\" points=\"\n",
       "  54.8916,219.25 580.315,219.25 \n",
       "  \"/>\n",
       "<polyline clip-path=\"url(#clip02)\" style=\"stroke:#00002d; stroke-width:0.4; stroke-opacity:0.1; fill:none\" points=\"\n",
       "  54.8916,172.312 580.315,172.312 \n",
       "  \"/>\n",
       "<polyline clip-path=\"url(#clip02)\" style=\"stroke:#00002d; stroke-width:0.4; stroke-opacity:0.1; fill:none\" points=\"\n",
       "  54.8916,125.373 580.315,125.373 \n",
       "  \"/>\n",
       "<polyline clip-path=\"url(#clip02)\" style=\"stroke:#00002d; stroke-width:0.4; stroke-opacity:0.1; fill:none\" points=\"\n",
       "  54.8916,78.4345 580.315,78.4345 \n",
       "  \"/>\n",
       "<polyline clip-path=\"url(#clip00)\" style=\"stroke:#00002d; stroke-width:0.8; stroke-opacity:1; fill:none\" points=\"\n",
       "  54.8916,360.065 580.315,360.065 \n",
       "  \"/>\n",
       "<polyline clip-path=\"url(#clip00)\" style=\"stroke:#00002d; stroke-width:0.8; stroke-opacity:1; fill:none\" points=\"\n",
       "  54.8916,360.065 54.8916,31.4961 \n",
       "  \"/>\n",
       "<polyline clip-path=\"url(#clip00)\" style=\"stroke:#00002d; stroke-width:0.8; stroke-opacity:1; fill:none\" points=\"\n",
       "  54.8916,360.065 54.8916,355.137 \n",
       "  \"/>\n",
       "<polyline clip-path=\"url(#clip00)\" style=\"stroke:#00002d; stroke-width:0.8; stroke-opacity:1; fill:none\" points=\"\n",
       "  230.033,360.065 230.033,355.137 \n",
       "  \"/>\n",
       "<polyline clip-path=\"url(#clip00)\" style=\"stroke:#00002d; stroke-width:0.8; stroke-opacity:1; fill:none\" points=\"\n",
       "  405.174,360.065 405.174,355.137 \n",
       "  \"/>\n",
       "<polyline clip-path=\"url(#clip00)\" style=\"stroke:#00002d; stroke-width:0.8; stroke-opacity:1; fill:none\" points=\"\n",
       "  580.315,360.065 580.315,355.137 \n",
       "  \"/>\n",
       "<polyline clip-path=\"url(#clip00)\" style=\"stroke:#00002d; stroke-width:0.8; stroke-opacity:1; fill:none\" points=\"\n",
       "  54.8916,360.065 62.773,360.065 \n",
       "  \"/>\n",
       "<polyline clip-path=\"url(#clip00)\" style=\"stroke:#00002d; stroke-width:0.8; stroke-opacity:1; fill:none\" points=\"\n",
       "  54.8916,313.127 62.773,313.127 \n",
       "  \"/>\n",
       "<polyline clip-path=\"url(#clip00)\" style=\"stroke:#00002d; stroke-width:0.8; stroke-opacity:1; fill:none\" points=\"\n",
       "  54.8916,266.188 62.773,266.188 \n",
       "  \"/>\n",
       "<polyline clip-path=\"url(#clip00)\" style=\"stroke:#00002d; stroke-width:0.8; stroke-opacity:1; fill:none\" points=\"\n",
       "  54.8916,219.25 62.773,219.25 \n",
       "  \"/>\n",
       "<polyline clip-path=\"url(#clip00)\" style=\"stroke:#00002d; stroke-width:0.8; stroke-opacity:1; fill:none\" points=\"\n",
       "  54.8916,172.312 62.773,172.312 \n",
       "  \"/>\n",
       "<polyline clip-path=\"url(#clip00)\" style=\"stroke:#00002d; stroke-width:0.8; stroke-opacity:1; fill:none\" points=\"\n",
       "  54.8916,125.373 62.773,125.373 \n",
       "  \"/>\n",
       "<polyline clip-path=\"url(#clip00)\" style=\"stroke:#00002d; stroke-width:0.8; stroke-opacity:1; fill:none\" points=\"\n",
       "  54.8916,78.4345 62.773,78.4345 \n",
       "  \"/>\n",
       "<g clip-path=\"url(#clip00)\">\n",
       "<text style=\"fill:#00002d; fill-opacity:1; font-family:Arial,Helvetica Neue,Helvetica,sans-serif; font-size:12; text-anchor:middle;\" transform=\"rotate(0, 54.8916, 373.865)\" x=\"54.8916\" y=\"373.865\">-2</text>\n",
       "</g>\n",
       "<g clip-path=\"url(#clip00)\">\n",
       "<text style=\"fill:#00002d; fill-opacity:1; font-family:Arial,Helvetica Neue,Helvetica,sans-serif; font-size:12; text-anchor:middle;\" transform=\"rotate(0, 230.033, 373.865)\" x=\"230.033\" y=\"373.865\">-1</text>\n",
       "</g>\n",
       "<g clip-path=\"url(#clip00)\">\n",
       "<text style=\"fill:#00002d; fill-opacity:1; font-family:Arial,Helvetica Neue,Helvetica,sans-serif; font-size:12; text-anchor:middle;\" transform=\"rotate(0, 405.174, 373.865)\" x=\"405.174\" y=\"373.865\">0</text>\n",
       "</g>\n",
       "<g clip-path=\"url(#clip00)\">\n",
       "<text style=\"fill:#00002d; fill-opacity:1; font-family:Arial,Helvetica Neue,Helvetica,sans-serif; font-size:12; text-anchor:middle;\" transform=\"rotate(0, 580.315, 373.865)\" x=\"580.315\" y=\"373.865\">1</text>\n",
       "</g>\n",
       "<g clip-path=\"url(#clip00)\">\n",
       "<text style=\"fill:#00002d; fill-opacity:1; font-family:Arial,Helvetica Neue,Helvetica,sans-serif; font-size:12; text-anchor:end;\" transform=\"rotate(0, 48.8916, 364.565)\" x=\"48.8916\" y=\"364.565\">-0.1</text>\n",
       "</g>\n",
       "<g clip-path=\"url(#clip00)\">\n",
       "<text style=\"fill:#00002d; fill-opacity:1; font-family:Arial,Helvetica Neue,Helvetica,sans-serif; font-size:12; text-anchor:end;\" transform=\"rotate(0, 48.8916, 317.627)\" x=\"48.8916\" y=\"317.627\">0.0</text>\n",
       "</g>\n",
       "<g clip-path=\"url(#clip00)\">\n",
       "<text style=\"fill:#00002d; fill-opacity:1; font-family:Arial,Helvetica Neue,Helvetica,sans-serif; font-size:12; text-anchor:end;\" transform=\"rotate(0, 48.8916, 270.688)\" x=\"48.8916\" y=\"270.688\">0.1</text>\n",
       "</g>\n",
       "<g clip-path=\"url(#clip00)\">\n",
       "<text style=\"fill:#00002d; fill-opacity:1; font-family:Arial,Helvetica Neue,Helvetica,sans-serif; font-size:12; text-anchor:end;\" transform=\"rotate(0, 48.8916, 223.75)\" x=\"48.8916\" y=\"223.75\">0.2</text>\n",
       "</g>\n",
       "<g clip-path=\"url(#clip00)\">\n",
       "<text style=\"fill:#00002d; fill-opacity:1; font-family:Arial,Helvetica Neue,Helvetica,sans-serif; font-size:12; text-anchor:end;\" transform=\"rotate(0, 48.8916, 176.812)\" x=\"48.8916\" y=\"176.812\">0.3</text>\n",
       "</g>\n",
       "<g clip-path=\"url(#clip00)\">\n",
       "<text style=\"fill:#00002d; fill-opacity:1; font-family:Arial,Helvetica Neue,Helvetica,sans-serif; font-size:12; text-anchor:end;\" transform=\"rotate(0, 48.8916, 129.873)\" x=\"48.8916\" y=\"129.873\">0.4</text>\n",
       "</g>\n",
       "<g clip-path=\"url(#clip00)\">\n",
       "<text style=\"fill:#00002d; fill-opacity:1; font-family:Arial,Helvetica Neue,Helvetica,sans-serif; font-size:12; text-anchor:end;\" transform=\"rotate(0, 48.8916, 82.9345)\" x=\"48.8916\" y=\"82.9345\">0.5</text>\n",
       "</g>\n",
       "<g clip-path=\"url(#clip00)\">\n",
       "<text style=\"fill:#00002d; fill-opacity:1; font-family:Arial,Helvetica Neue,Helvetica,sans-serif; font-size:21; text-anchor:middle;\" transform=\"rotate(0, 317.603, 18)\" x=\"317.603\" y=\"18\">Derivative = -0.4176880003523009</text>\n",
       "</g>\n",
       "<g clip-path=\"url(#clip00)\">\n",
       "<text style=\"fill:#00002d; fill-opacity:1; font-family:Arial,Helvetica Neue,Helvetica,sans-serif; font-size:16; text-anchor:middle;\" transform=\"rotate(0, 317.603, 397.6)\" x=\"317.603\" y=\"397.6\">w</text>\n",
       "</g>\n",
       "<g clip-path=\"url(#clip00)\">\n",
       "<text style=\"fill:#00002d; fill-opacity:1; font-family:Arial,Helvetica Neue,Helvetica,sans-serif; font-size:16; text-anchor:middle;\" transform=\"rotate(-90, 14.4, 195.781)\" x=\"14.4\" y=\"195.781\">L1(w)</text>\n",
       "</g>\n",
       "<polyline clip-path=\"url(#clip02)\" style=\"stroke:#0099ff; stroke-width:0.8; stroke-opacity:1; fill:none\" points=\"\n",
       "  60.0228,26.8579 107.468,36.4943 135.981,44.9928 160.088,54.2776 186.275,67.0052 210.417,81.559 223.358,90.5781 236.3,100.481 251.294,113.063 266.288,126.798 \n",
       "  292.937,153.734 316.307,179.299 341.786,207.91 367.416,235.697 381.585,249.927 395.754,262.977 409.235,274.084 422.716,283.77 436.733,292.256 450.751,299.12 \n",
       "  462.55,303.687 474.35,307.22 488.756,310.272 503.162,312.125 516.704,312.964 530.246,313.106 551.942,312.284 573.637,310.656 576.976,310.363 \n",
       "  \"/>\n",
       "<circle clip-path=\"url(#clip02)\" style=\"fill:#00002d; stroke:none; fill-opacity:1\" cx=\"317.603\" cy=\"180.75\" r=\"3\"/>\n",
       "<circle clip-path=\"url(#clip02)\" style=\"fill:#e9746a; stroke:none; fill-opacity:1\" cx=\"317.603\" cy=\"180.75\" r=\"2\"/>\n",
       "<polyline clip-path=\"url(#clip02)\" style=\"stroke:#3cb370; stroke-width:0.8; stroke-opacity:1; fill:none\" stroke-dasharray=\"8, 5\" points=\"\n",
       "  49.8656,-118.961 99.3468,-63.571 129.083,-30.2838 154.225,-2.13984 181.535,28.4324 206.713,56.6172 233.707,86.8344 264.982,121.844 292.775,152.956 317.147,180.239 \n",
       "  343.72,209.985 370.45,239.907 400.003,272.99 428.123,304.467 457.361,337.197 481.973,364.748 512.021,398.385 540.268,430.004 585.52,480.661 \n",
       "  \"/>\n",
       "<polygon clip-path=\"url(#clip00)\" points=\"\n",
       "441.041,97.7361 562.315,97.7361 562.315,52.3761 441.041,52.3761 \n",
       "  \" fill=\"#ffffff\" fill-opacity=\"1\"/>\n",
       "<polyline clip-path=\"url(#clip00)\" style=\"stroke:#00002d; stroke-width:0.8; stroke-opacity:1; fill:none\" points=\"\n",
       "  441.041,97.7361 562.315,97.7361 562.315,52.3761 441.041,52.3761 441.041,97.7361 \n",
       "  \"/>\n",
       "<polyline clip-path=\"url(#clip00)\" style=\"stroke:#0099ff; stroke-width:0.8; stroke-opacity:1; fill:none\" points=\"\n",
       "  447.041,67.4961 483.041,67.4961 \n",
       "  \"/>\n",
       "<g clip-path=\"url(#clip00)\">\n",
       "<text style=\"fill:#00002d; fill-opacity:1; font-family:Arial,Helvetica Neue,Helvetica,sans-serif; font-size:12; text-anchor:start;\" transform=\"rotate(0, 489.041, 71.9961)\" x=\"489.041\" y=\"71.9961\">L_1</text>\n",
       "</g>\n",
       "<polyline clip-path=\"url(#clip00)\" style=\"stroke:#3cb370; stroke-width:0.8; stroke-opacity:1; fill:none\" stroke-dasharray=\"8, 5\" points=\"\n",
       "  447.041,82.6161 483.041,82.6161 \n",
       "  \"/>\n",
       "<g clip-path=\"url(#clip00)\">\n",
       "<text style=\"fill:#00002d; fill-opacity:1; font-family:Arial,Helvetica Neue,Helvetica,sans-serif; font-size:12; text-anchor:start;\" transform=\"rotate(0, 489.041, 87.1161)\" x=\"489.041\" y=\"87.1161\">tangent line</text>\n",
       "</g>\n",
       "</svg>\n"
      ]
     },
     "execution_count": 13,
     "metadata": {
      "comm_id": "f655db13-b98a-426a-8bb7-f45c906c78e6",
      "reactive": true
     },
     "output_type": "execute_result"
    }
   ],
   "source": [
    "wmin = -2\n",
    "wmax = 1\n",
    "w_range = wmin:0.01:wmax\n",
    "\n",
    "@manipulate for w in w_range\n",
    "    plot(L1, wmin, wmax, label=\"L_1\")\n",
    "    \n",
    "    x0 = w\n",
    "    y0 = L1(w)\n",
    "    \n",
    "    scatter!([x0], [y0], label=\"\")\n",
    "    \n",
    "    m = derivative(L1, w)\n",
    "    \n",
    "    plot!(x->y0 + m*(x - x0), ls=:dash, label=\"tangent line\")\n",
    "    \n",
    "    ylims!(-0.1, 0.6)\n",
    "    xlims!(wmin, wmax)\n",
    "    \n",
    "    title!(\"Derivative = $m\")\n",
    "    xlabel!(\"w\")\n",
    "    ylabel!(\"L1(w)\")\n",
    "end"
   ]
  },
  {
   "cell_type": "markdown",
   "metadata": {},
   "source": [
    "#### Exercise 3\n",
    "\n",
    "What is the value of the derivative (slope of the tangent line) at a minimum? Can this happen anywhere else?"
   ]
  },
  {
   "cell_type": "markdown",
   "metadata": {},
   "source": [
    "#### Solution"
   ]
  },
  {
   "cell_type": "markdown",
   "metadata": {},
   "source": [
    "The derivative is `0` at a minimum. This happens at any minimum, maximum or \"point of inflection\" of a smooth function."
   ]
  },
  {
   "cell_type": "markdown",
   "metadata": {},
   "source": [
    "## Minimization by gradient descent"
   ]
  },
  {
   "cell_type": "markdown",
   "metadata": {},
   "source": [
    "The tangent line at a point is a good approximation of the function near that point. Therefore the derivative tells us in which direction, and how fast, a function grows or shrinks when we move a small distance away from that point. \n",
    "\n",
    "As we saw in the previous notebook, we can think of the function as being a hill, and having a ball that we want to move down the hill. Gravity will automatically pull the ball in the direction *down* the hill; we want to emulate this in the computer!"
   ]
  },
  {
   "cell_type": "markdown",
   "metadata": {},
   "source": [
    "#### Exercise 4\n",
    "\n",
    "When the derivative $L_1'(w)$ is positive, that means that $L_1$ increases from left to right at point $w$.\n",
    "\n",
    "If the derivative $L_1'(w)$ is positive (> 0), in which direction should we move $w$ to *decrease* $L_1$?"
   ]
  },
  {
   "cell_type": "markdown",
   "metadata": {},
   "source": [
    "#### Solution\n",
    "\n",
    "We should move $w$ left, i.e. decrease it."
   ]
  },
  {
   "cell_type": "markdown",
   "metadata": {},
   "source": [
    "#### Exercise 5\n",
    "\n",
    "If the derivative $L_1'(w)$ is negative (< 0), in which direction should we move $w$ to *decrease* $L_1$?"
   ]
  },
  {
   "cell_type": "markdown",
   "metadata": {},
   "source": [
    "We can use this information to tell the computer which way to take a step. This constitutes the numerical algorithm called **gradient descent**; it is called this since we are descending (moving downwards) along the graph of the function by using information about its gradient (slope)."
   ]
  },
  {
   "cell_type": "markdown",
   "metadata": {},
   "source": [
    "#### Exercise 6\n",
    "\n",
    "Implement gradient descent by following this prescription for an **iterative (repetitive) algorithm**:\n",
    "\n",
    "1. Start at an initial guess $w_0$ for $w$. \n",
    "\n",
    "2. At each step, calculate the derivative, $L_1'(w_n)$ at the current value of $w_n$ using the function that you created above.\n",
    "\n",
    "3. Modify the value of $w$ by a small multiple (for example, $\\eta=0.01$) of the value of the derivative you just created, via $w_{n+1} = w_n - \\eta L_1'(w_n)$.\n",
    "\n",
    "For this problem, start with $w_0 = -2.0$. Repeat steps 2 and 3 a total of `2000` times.\n",
    "\n",
    "Package this code into a function called `gradient_descent` that takes two inputs, a function and a range for values of $w$, and returns the final value of $w$ and $L_1(w)$.\n",
    "\n",
    "Using `L1` and `-2:0.01:1.5` as your inputs to `gradient_descent`, for what value of $w$ is $L_1$ at a minimum?"
   ]
  },
  {
   "cell_type": "markdown",
   "metadata": {},
   "source": [
    "#### Solution\n",
    "\n",
    "\n",
    "Your code should look similar to\n",
    "\n",
    "```julia\n",
    "function gradient_descent(f, wrange)\n",
    "    derivative(f, w, h=0.001) = ( f(w + h) - f(w) ) / h\n",
    "    w = -2.0\n",
    "    for i in 1:2000\n",
    "        fderiv = derivative(f, w)\n",
    "        step = .01 * fderiv\n",
    "        w = w - step\n",
    "    end\n",
    "    return w, f(w)\n",
    "end\n",
    "\n",
    "gradient_descent(C1, -2:0.01:1.5)\n",
    "```\n",
    "\n",
    "and should roughly produce `(0.6383448319922364, 0.0003281257939913364)`\n",
    "\n",
    "#### Test\n",
    "```julia\n",
    "0.6383 < gradient_descent(C1, -2:0.01:1.5)[1] < 0.6385\n",
    "```"
   ]
  },
  {
   "cell_type": "markdown",
   "metadata": {},
   "source": [
    "#### Exercise 7\n",
    "\n",
    "Modify your code for gradient descent to return the result once it has found an answer within some *tolerance*, rather than taking a set number of steps. The new prescription for this algorithm is:\n",
    "\n",
    "1. Start at an initial guess $w_0$ for $w$. \n",
    "\n",
    "2. At each step, calculate the derivative, $L_1'(w_n)$ at the current value of $w_n$, using the function that you created above.\n",
    "\n",
    "3. Modify the value of $w$ by a small multiple (for example, $\\eta=0.01$) of the value of the derivative you just created, via $w_{n+1} = w_n - \\eta L_1'(w_n)$.\n",
    "\n",
    "4. Check how different $w_{n+1}$ is from $w_n$. If you're satisfied that $L_1(w_{n+1})$ is minimized, return $w_{n+1}$ and $L_1(w_{n+1})$. Otherwise, go to step (2) and continue.\n",
    "\n",
    "Edit `gradient_descent` so that it takes three inputs: a function, a range for values of $w$, and a tolerance that tells you how close $w_{n+1}$ must be to $w_n$ before you can stop iterating. \n",
    "\n",
    "Using `L1`, `-2:0.01:1.5`, and `.000001` as your inputs to `gradient_descent`, for what value of $w$ is $L_1$ at a minimum?"
   ]
  },
  {
   "cell_type": "markdown",
   "metadata": {},
   "source": [
    "#### Solution\n",
    "\n",
    "\n",
    "Your code should look something like\n",
    "\n",
    "```julia\n",
    "function gradient_descent(f, wrange, tol)\n",
    "    w = -2.0\n",
    "    while true\n",
    "        fderiv = derivative(f, w)\n",
    "        step = .01 * fderiv\n",
    "        w = w - step\n",
    "        if abs(step) < tol\n",
    "           return w, f(w) \n",
    "        end\n",
    "    end\n",
    "end\n",
    "\n",
    "gradient_descent(C1, -2:0.01:1.5, .000001)\n",
    "```\n",
    "\n",
    "$C_1$ is at a minimum when `gradient_descent(C1, -2:0.01:1.5, .000001)[1]`, or $w$, is around `0.69216`.\n",
    "\n",
    "**Test**\n",
    "```julia\n",
    "0.69215 < gradient_descent(C1, -2:0.01:1.5, .000001)[1] < 0.69217\n",
    "```"
   ]
  },
  {
   "cell_type": "markdown",
   "metadata": {},
   "source": [
    "After you've completed this step, you will have found a good approximation to the value $w^*$ where $L_1$ reaches its minimum, and the minimum value $L_1(w^*)$, which in this case is (almost) $0$."
   ]
  },
  {
   "cell_type": "markdown",
   "metadata": {},
   "source": [
    "#### Exercise 8\n",
    "\n",
    "Alter the function `gradient_descent` so that it stores the results `(w, L1(w))` at each step of the algorithm as an array and returns this array. How many steps does the algorithm take for input parameters `(L1, -2:0.01:1.5, .000001)` before terminating? You should count your starting $w_0$ as your first step."
   ]
  },
  {
   "cell_type": "markdown",
   "metadata": {},
   "source": [
    "#### Solution"
   ]
  },
  {
   "cell_type": "markdown",
   "metadata": {},
   "source": [
    "Your altered code should look like\n",
    "\n",
    "```julia\n",
    "function gradient_descent(f, wrange, tol)\n",
    "    w = -2.0\n",
    "    store_w = [(w, f(w))]\n",
    "    while true\n",
    "        fderiv = derivative(f, w)\n",
    "        step = .01 * fderiv\n",
    "        w = w - step\n",
    "        push!(store_w, (w, f(w)))\n",
    "        if abs(step) < tol\n",
    "           return store_w \n",
    "        end\n",
    "    end\n",
    "end\n",
    "```\n",
    "\n",
    "You can get the number of steps taken via\n",
    "\n",
    "```julia\n",
    "length(gradient_descent(C1, -2:0.01:1.5, .000001))\n",
    "```\n",
    "\n",
    "This gives the answer `4255` steps."
   ]
  },
  {
   "cell_type": "markdown",
   "metadata": {},
   "source": [
    "#### Exercise 9\n",
    "\n",
    "Overlay the steps taken in the last exercise with a plot of $L_1(w)$ vs. $w$.\n",
    "\n",
    "Where does our algorithm take the largest steps? (Where does the ball move fastest down the hill?)\n",
    "\n",
    "A) Between w = -2:-1<br>\n",
    "B) Between w = -1:0<br>\n",
    "C) Between w = 0:.6\n",
    "\n",
    "*Hint*: It may be easier to see what's going on if you only plot, for example, every 15th step."
   ]
  },
  {
   "cell_type": "markdown",
   "metadata": {},
   "source": [
    "B) The following code generates the desired figure:\n",
    "\n",
    "```julia\n",
    "wsteps = gradient_descent(C1, -2:0.01:1.5, .000001)\n",
    "fig1 = plot(C1, -2, 1.5, xlabel=\"w\", ylabel=\"C1(w)\", leg=false)\n",
    "for step in wsteps[1:15:end]\n",
    "   scatter!([step[1]], [step[2]]) \n",
    "end\n",
    "display(fig1)\n",
    "```"
   ]
  },
  {
   "cell_type": "markdown",
   "metadata": {},
   "source": [
    "## Functions of 2 variables and their derivatives"
   ]
  },
  {
   "cell_type": "markdown",
   "metadata": {},
   "source": [
    "So far, we have been looking at the minimizing a loss function $L_1(w)$ that depends on a single parameter, $w$. Now let's turn to the cost function $L_2(w, b)$ from a previous notebook, that is a function of *two* parameters, $w$ and $b$, and try to minimize it.\n",
    "\n",
    "As we've seen, we get a **surface**, instead of a curve, when we graph $L_2$ as a function of both of its parameters."
   ]
  },
  {
   "cell_type": "markdown",
   "metadata": {},
   "source": [
    "**Exercise 10** \n",
    "\n",
    "Draw a surface plot of $L_2$, given by\n",
    "\n",
    "$$L_{2}(w, b) = \\sum_i(y_i - g(x_i, w, b))^2$$\n",
    "\n",
    "using the `surface` function from `Plots.jl`. For this plot, use the values of `xs` and `ys` from notebook 5:\n",
    "\n",
    "```julia\n",
    "xs = [2, -3, -1, 1]\n",
    "ys = [0.8, 0.3, 0.4, 0.4]\n",
    "```\n",
    "\n",
    "We can get a nice interactive 3D plot by using the Plotly backend of `Plots.jl` by executing the command \n",
    "\n",
    "    plotly()"
   ]
  },
  {
   "cell_type": "markdown",
   "metadata": {},
   "source": [
    "#### Solution"
   ]
  },
  {
   "cell_type": "markdown",
   "metadata": {},
   "source": [
    "The following code will generate the desired graphic:\n",
    "\n",
    "```julia\n",
    "plotly()\n",
    "σ(x) = 1 / (1 + exp(-x))\n",
    "g(x, w, b) = σ(w*x) + b\n",
    "\n",
    "xs = [2, -3, -1, 1]\n",
    "ys = [0.8, 0.3, 0.4, 0.4]\n",
    "\n",
    "L2(w, b) = sum(abs2, ys .- g.(xs, w, b))\n",
    "\n",
    "surface(-2:0.02:2, -2:0.02:2, L2, alpha=0.6, xlabel = \"w\", ylabel = \"b\", zlabel = \"L2(w, b)\")\n",
    "```"
   ]
  },
  {
   "cell_type": "markdown",
   "metadata": {},
   "source": [
    "### Finding the minimum"
   ]
  },
  {
   "cell_type": "markdown",
   "metadata": {},
   "source": [
    "We can just about see, by rotating the graph, that $L_2$ has a single minimum. We want to find the values of $w$ and $b$ where this minimum value is reached."
   ]
  },
  {
   "cell_type": "markdown",
   "metadata": {},
   "source": [
    "Following what we did for the function $L_1$ above, we expect that we will need to calculate derivatives of $L_2$. Since the function is more complicated, though, the derivatives are too!\n",
    "\n",
    "It turns out that the right concept is that of the [**gradient**](https://en.wikipedia.org/wiki/Gradient) of $L_2$, denoted $\\nabla L_2(w, b)$. This is a **vector** consisting of $2$ numbers if there are $2$ parameters [or, in general, $n$ numbers if there are $n$ parameters].\n",
    "\n",
    "The numbers that form the gradient $\\nabla L_2(w, b)$ are called the **partial derivatives** of $L_2$ with respect to $w$ and $b$,  written as \n",
    "\n",
    "$$\\frac{\\partial L_2}{\\partial w} \\quad \\text{and} \\quad \\frac{\\partial L_2}{\\partial b}.$$\n",
    "\n",
    "Although this notation might look complicated, all it means is that we calculate derivatives just like we did before, except that we fix the value of the other variable. \n",
    "For example, to calculate $\\frac{\\partial L_2}{\\partial w}$, the partial derivative of $L_2$ with respect to $w$, we fix the value of $b$ and think of the resulting function as a function of the single variable $w$; then we use the formula for derivatives of functions of a single variable.\n",
    "\n",
    "[Note that $\\frac{\\partial L_2}{\\partial w}$ is itself a function of $w$ and $b$; we could write $\\frac{\\partial L_2}{\\partial w}(w, b)$.]"
   ]
  },
  {
   "cell_type": "markdown",
   "metadata": {},
   "source": [
    "#### Exercise 11\n",
    "\n",
    "Write functions that will allow you to calculate the partial derivatives of a function $f$ of two variables.\n",
    "\n",
    "In particular, declare functions called `partial_w` and `partial_b`. Each should take four inputs - a function $f$ of two variables, the first input argument to $f$, the second input argument to $f$, and a step size `h` with default value `0.001`. `partial_w` should return the partial derivative of $f$ with respect to its first input argument and `partial_b` should return the partial derivative of $f$ with respect to its second input argument."
   ]
  },
  {
   "cell_type": "markdown",
   "metadata": {},
   "source": [
    "#### Solution\n",
    "\n",
    "The partial derivatives are\n",
    "\n",
    "```julia\n",
    "partial_w(f, w, b, h = 0.001) = ( f(w + h, b) - f(w, b) ) / h\n",
    "partial_b(f, w, b, h = 0.001) = ( f(w, b + h) - f(w, b) ) / h\n",
    "```"
   ]
  },
  {
   "cell_type": "markdown",
   "metadata": {},
   "source": [
    "**Tests**\n",
    "\n",
    "Test that default parameters work:\n",
    "```julia\n",
    "@show partial_w((x, y) -> 3 * x * y, 0.3, 0.3) # 0.9\n",
    "@show partial_b((x, y) -> 3 * x * y, 0.3, 0.3) # 0.9\n",
    "```\n",
    "\n",
    "Test that you can specify your own step sizes:\n",
    "```julia\n",
    "@show partial_w((x, y) -> 3 * x^2 * y^3, 2.3, 10.2, 1) # 17828.2944\n",
    "@show partial_b((x, y) -> 3 * x^2 * y^3, 2.3, 10.2, 1) # 5454.8364\n",
    "```\n",
    "\n",
    "Test that x and y are treated separately:\n",
    "```julia\n",
    "@show partial_w((x, y) -> 3 * x * y^2, 0.3, 0.2) # 0.12\n",
    "@show partial_b((x, y) -> 3 * x * y^2, 0.3, 0.2) # 0.3609\n",
    "@show partial_w((x, y) -> 3 * x^2 * y, 0.3, 0.2, 0.1) # 0.42\n",
    "@show partial_b((x, y) -> 3 * x^2 * y, 0.3, 0.2, 0.1) # 0.27\n",
    "```"
   ]
  },
  {
   "cell_type": "markdown",
   "metadata": {},
   "source": [
    "#### Exercise 12\n",
    "\n",
    "Use `partial_b` from the last exercise to find the partial derivative of $L_2$ with respect to $w$ at b = 0.3, $\\frac{\\partial L_2}{\\partial w}|_{b = 0.3}$ for `w = -2:0.01:1`"
   ]
  },
  {
   "cell_type": "markdown",
   "metadata": {},
   "source": [
    "#### Solution\n",
    "\n",
    "```julia\n",
    "wrange = -2:0.01:1\n",
    "partialw = partial_w.(C2, wrange, 0.3 )\n",
    "```\n",
    "\n",
    "**Test**\n",
    "\n",
    "```julia\n",
    "isapprox(partialw[3], -0.212573)\n",
    "```"
   ]
  },
  {
   "cell_type": "markdown",
   "metadata": {},
   "source": [
    "#### Exercise 13\n",
    "\n",
    "Plot the cross section of the surface of $L_2(w, b)$ at $b = 0.3$. Make this plot interactive with `@manipulate` to show that the function `partial_w` gives the slope of the tangent to this cross section for any point `w` in the range `-2:0.01:1`.\n",
    "\n",
    "For what value of $w$ in this range is the slope of the cross section closest to -1?"
   ]
  },
  {
   "cell_type": "markdown",
   "metadata": {},
   "source": [
    "#### Solution"
   ]
  },
  {
   "cell_type": "markdown",
   "metadata": {},
   "source": [
    "The slope is closest to -1.0 at w = -0.55. You can see this by running the following code:\n",
    "\n",
    "```julia\n",
    "using Interact\n",
    "C2_fixedb = C2.(wrange, 0.3)\n",
    "\n",
    "@manipulate for i in 1:length(wrange)\n",
    "    plot(wrange, C2_fixedb)\n",
    "    scatter!([wrange[i]], [C2_fixedb[i]])\n",
    "    slope = partialw[i]\n",
    "    tangent_points = slope .* wrange .- slope * wrange[i] .+ C2_fixedb[i]\n",
    "    plot!(wrange, tangent_points)\n",
    "    ylims!(0.3, 2.0)\n",
    "    title!(\"Slope = $slope @ $(wrange[i])\")\n",
    "end\n",
    "```"
   ]
  },
  {
   "cell_type": "markdown",
   "metadata": {},
   "source": [
    "## ***Optional**: Functions with $n$ inputs"
   ]
  },
  {
   "cell_type": "markdown",
   "metadata": {},
   "source": [
    "If a function $f$ takes $n$ input arguments, we can write them as $p_1, \\ldots, p_n$, where $p_i$ means the \"$i$th parameter\". In Julia, we can wrap them up into a single **vector**. Now we can calculate the partial derivative $\\frac{\\partial L_2}{\\partial p_i}$ with respect to the $i$th variable."
   ]
  },
  {
   "cell_type": "markdown",
   "metadata": {},
   "source": [
    "#### Exercise 14\n",
    "\n",
    "For the next exercise, you will need to use the splat command, `...`. You can use this command to \"open up\" a collection and pass all the elements of that collection as inputs to a function.\n",
    "\n",
    "For example, say you have an array, `numbers`,\n",
    "\n",
    "```julia\n",
    "numbers = [4, 3, 2]\n",
    "```\n",
    "\n",
    "and you want to use `numbers` to create a $4\\times3\\times3$ randomly populated array via `rand`. `rand(numbers)` will not do what you want. You could index into `numbers` to grab the values you want and pass them to `rand`, as in\n",
    "\n",
    "```julia\n",
    "rand(numbers[1], numbers[2], numbers[3])\n",
    "```\n",
    "\n",
    "or you could use a splat:\n",
    "\n",
    "```julia\n",
    "rand(numbers...)\n",
    "```\n",
    "\n",
    "Use `...` to pass the contents of `inputs`\n",
    "\n",
    "```julia\n",
    "inputs = [30, 12, \"cats\"]\n",
    "```\n",
    "\n",
    "to the function `dreams`\n",
    "\n",
    "```julia\n",
    "dreams(i, j, perfect_mammal) = \"I wish I had $(i + j) $perfect_mammal.\"\n",
    "```"
   ]
  },
  {
   "cell_type": "markdown",
   "metadata": {},
   "source": [
    "#### Solution\n",
    "\n",
    "\n",
    "```julia\n",
    "inputs = [30, 12, \"cats\"]\n",
    "dreams(i, j, perfect_mammal) = \"I wish I had $(i + j) $perfect_mammal.\"\n",
    "dreams(inputs...)\n",
    "```\n",
    "\n",
    "This produces the string \"I wish I had 42 cats.\""
   ]
  },
  {
   "cell_type": "markdown",
   "metadata": {},
   "source": [
    "#### Exercise 15:\n",
    "\n",
    "Write a function, `partial`, to calculate the $i$th partial derivative of a function. This function should have four inputs\n",
    "\n",
    "* a function, $f$, for which you want to compute the partial derivative\n",
    "* an array, *p*, specifying the values of all input arguments to $f$ at the point where you want $\\frac{\\partial f}{\\partial p_i}$ computed\n",
    "* the index, $i$, of the variable with respect to which you want to calculate the partial derivative of $f$\n",
    "* a step size with default value 0.001\n",
    "\n",
    "Hint: you will need to `copy` and modify `p` within `partial`."
   ]
  },
  {
   "cell_type": "markdown",
   "metadata": {},
   "source": [
    "#### Solution\n",
    "\n",
    "\n",
    "```julia\n",
    "function partial(f, p, i, h = 0.001)\n",
    "    p_next = copy(p)\n",
    "    p_next[i] += h\n",
    "    return ( f(p_next...) - f(p...) ) / h\n",
    "end\n",
    "```\n",
    "\n",
    "**Tests**\n",
    "\n",
    "```julia\n",
    "partial((x, y, z) -> x^2 * y * z, [1.0, 2.0, 1.0], 1, 0.0001) # 4.0002\n",
    "partial((x, y, z) -> x^2 * y * z, [1.0, 2.0, 1.0], 1, 1) # 6\n",
    "\n",
    "partial((w, x, y, z) -> w * x^2 * y^3 * z^4, [1.1, 2.2, 3.3, 4.4], 1) # 65192.53776074038\n",
    "partial((w, x, y, z) -> w * x^2 * y^3 * z^4, [1.1, 2.2, 3.3, 4.4], 2) # 65207.35424659506\n",
    "partial((w, x, y, z) -> w * x^2 * y^3 * z^4, [1.1, 2.2, 3.3, 4.4], 3) # 65212.29507069802\n",
    "partial((w, x, y, z) -> w * x^2 * y^3 * z^4, [1.1, 2.2, 3.3, 4.4], 4) # 65214.7658571339\n",
    "```"
   ]
  },
  {
   "cell_type": "markdown",
   "metadata": {},
   "source": [
    "## Gradient descent in 2 dimensions"
   ]
  },
  {
   "cell_type": "markdown",
   "metadata": {},
   "source": [
    "It turns out that the gradient vector of the function $L_2(w, b)$ gives the direction in the plane $(w, b)$ in which the function $L_2$ **increases fastest**. \n",
    "\n",
    "In other words, if you start at the position $(w_0, b_0)$ and take a small step of length $\\eta$ to new values $(w', b')$, the value of the function will change to a new value $L_2(w', b')$. How do we get to the minimum of $L_2(w, b)$ as fast as possible? We want to step in the direction where $L_2$ decreases fastest!\n",
    "\n",
    "In multivariable calculus courses, it is shown that $L_2$ will *increase* fastest if you take a step **in the direction of the gradient $\\nabla L_2(w, b)$**! To decrease $L_2$ the fastest, we should take a step in the *opposite* direction, $-\\nabla L_2(w, b)$.\n",
    "\n",
    "Let's now generalize the gradient descent algorithm that we wrote previously to work our 2-dimensional function."
   ]
  },
  {
   "cell_type": "markdown",
   "metadata": {},
   "source": [
    "#### Exercise 16\n",
    "\n",
    "Extend your 1D implementation of `gradient_descent` so that it will minimize the function $L_2$.\n",
    "\n",
    "Requirements:\n",
    "\n",
    "* Your new method for `gradient_descent` will take four input arguments: the function $f$ for which you seek the minimum, the range of values for $f$'s first input argument that you will consider, the range of values for $f$'s second input argument that you will consider, and a tolerance that will specify the maximum allowable step size, $\\sum_i \\eta \\frac{\\partial f}{\\partial p_i}$\n",
    "\n",
    "* Use $\\eta = .01$. For example, for a function $f(w, b)$, update $w$ such that $w_{n+1} = w_n - 0.01 * \\frac{\\partial f}{\\partial w_n}$\n",
    "\n",
    "* Seed `gradient_descent` with the starting coordinates [-2.0, -2.0], i.e. $w_0 = -2.0$ and $b_0 = -2.0$.\n",
    "\n",
    "* Return all steps (their coordinates) taken during gradient descent and the values of the loss function at these coordinates.\n",
    "\n",
    "Once you have done this, execute\n",
    "\n",
    "```julia\n",
    "gradient_descent(L2, -2:0.02:2, -2:0.02:2, .001)\n",
    "```\n",
    "\n",
    "How many steps were taken by gradient descent? \n",
    "\n",
    "Hint: Do not count your starting coordinates `[-2.0, -2.0]` as a step."
   ]
  },
  {
   "cell_type": "markdown",
   "metadata": {},
   "source": [
    "#### Solution\n",
    "\n",
    "\n",
    "The new code for `gradient_descent` should look something like\n",
    "\n",
    "```julia\n",
    "function gradient_descent(f, wrange, brange, tol)\n",
    "    w, b = -2.0, -2\n",
    "    store_steps = [[w, b]]\n",
    "    store_C2_vals = [f(w, b)]\n",
    "    while true\n",
    "        # Calculate partial derivatives\n",
    "        fpartial1 = partial(f, [w, b], 1)\n",
    "        fpartial2 = partial(f, [w, b], 2)\n",
    "        # Update parameters\n",
    "        w = w - .01 * fpartial1\n",
    "        b = b - .01 * fpartial2\n",
    "        # Store parameters and resulting function\n",
    "        push!(store_steps, [w, b])\n",
    "        push!(store_C2_vals, f(w, b))\n",
    "        \n",
    "        if abs(w + b) < tol\n",
    "           return store_steps, store_C2_vals\n",
    "        end\n",
    "    end\n",
    "end\n",
    "```\n",
    "\n",
    "and you will see it takes 396 steps to get to a minimum within the tolerance when you run\n",
    "\n",
    "```julia\n",
    "steps, values = gradient_descent(C2, -2:0.02:2, -2:0.02:2, .001 )\n",
    "length(values)\n",
    "```"
   ]
  },
  {
   "cell_type": "markdown",
   "metadata": {},
   "source": [
    "#### Exercise 17\n",
    "\n",
    "Use the `surface` and `scatter!` commands to illustrate the path taken by `gradient_descent` from [-2.0, -2.0] to wherever the algorithm terminates. \n",
    "\n",
    "Where do the scattered points representing the steps of gradient descent appear the most dense?\n",
    "\n",
    "A) Near the starting point at [-2.0, -2.0]<br>\n",
    "B) Near the point [-1.8, 0] where $C_2$ appears nearly flat<br>\n",
    "C) Near the minimum of $C_2$"
   ]
  },
  {
   "cell_type": "markdown",
   "metadata": {},
   "source": [
    "#### Solution\n",
    "\n",
    "B) The following code will plot the function `C2` with an overlay of the steps taken in gradient descent\n",
    "\n",
    "```julia\n",
    "fig = surface(-2:0.02:2, -2:0.02:2, C2, alpha=0.6, xlabel = \"w\", ylabel = \"b\", zlabel = \"C2(w, b)\")\n",
    "for i in 1:length(values)\n",
    "   scatter!([steps[i][1]], [steps[i][2]], [values[i]]) \n",
    "end\n",
    "display(fig)\n",
    "```\n",
    "\n",
    "You can change the frequency with which steps are plotted by changing the iterator in the `for` loop from `1:length(values)` to `1:n:length(values)` for varying values of `n`. This will allow you to see more clearly where steps are densely or sparsely packed."
   ]
  },
  {
   "cell_type": "markdown",
   "metadata": {},
   "source": [
    "## What we have learnt"
   ]
  },
  {
   "cell_type": "markdown",
   "metadata": {},
   "source": [
    "To recap, in this notebook, we have seen that the computer can calculate approximate derivatives, and that we can use those inside a relatively simple algorithm, gradient descent, to minimize functions of 1 and 2 variables!\n",
    "\n",
    "Now that we've used gradient descent to **learn** the best values of `b` and `w` for a cost function, we can imagine how we could do our classification of apples vs. bananas by allowing the machine to choose our parameters! To do this, we need to define a loss function for apple vs. banana classification, using images that have already been categorised as apples or bananas."
   ]
  }
 ],
 "metadata": {
  "kernelspec": {
   "display_name": "Julia 0.6.2",
   "language": "julia",
   "name": "julia-0.6"
  },
  "language_info": {
   "file_extension": ".jl",
   "mimetype": "application/julia",
   "name": "julia",
   "version": "0.6.2"
  }
 },
 "nbformat": 4,
 "nbformat_minor": 2
}
