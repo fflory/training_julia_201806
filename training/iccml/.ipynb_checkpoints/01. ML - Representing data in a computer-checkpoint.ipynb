{
 "cells": [
  {
   "cell_type": "markdown",
   "metadata": {},
   "source": [
    "# Representing data in a computer\n",
    "\n",
    "The core of data science and machine learning is **data**: we are interested in extracting knowledge from data. \n",
    "\n",
    "But how exactly do computers represent data? Let's find out exactly what an \"artificial intelligence\" has at its disposal to learn from."
   ]
  },
  {
   "cell_type": "markdown",
   "metadata": {},
   "source": [
    "## Data is represented as arrays\n",
    "\n",
    "Let's take a look at some fruit. Using the `Images.jl` library, we can load in some images:"
   ]
  },
  {
   "cell_type": "code",
   "execution_count": 1,
   "metadata": {},
   "outputs": [
    {
     "data": {
      "image/png": "[encoded data removed]",
      "text/plain": [
       "100×100 Array{RGB{N0f8},2}:\n",
       " RGB{N0f8}(0.996,1.0,0.984)    …  RGB{N0f8}(1.0,1.0,1.0)\n",
       " RGB{N0f8}(0.984,1.0,0.988)       RGB{N0f8}(1.0,1.0,1.0)\n",
       " RGB{N0f8}(0.98,1.0,0.996)        RGB{N0f8}(1.0,1.0,1.0)\n",
       " RGB{N0f8}(0.969,1.0,0.992)       RGB{N0f8}(1.0,1.0,1.0)\n",
       " RGB{N0f8}(0.969,1.0,1.0)         RGB{N0f8}(1.0,1.0,1.0)\n",
       " RGB{N0f8}(0.98,1.0,1.0)       …  RGB{N0f8}(1.0,1.0,1.0)\n",
       " RGB{N0f8}(0.992,0.996,1.0)       RGB{N0f8}(1.0,1.0,1.0)\n",
       " RGB{N0f8}(1.0,0.992,1.0)         RGB{N0f8}(1.0,1.0,1.0)\n",
       " RGB{N0f8}(1.0,0.984,1.0)         RGB{N0f8}(1.0,1.0,1.0)\n",
       " RGB{N0f8}(1.0,0.984,1.0)         RGB{N0f8}(1.0,1.0,1.0)\n",
       " RGB{N0f8}(1.0,0.992,1.0)      …  RGB{N0f8}(1.0,1.0,1.0)\n",
       " RGB{N0f8}(1.0,0.996,1.0)         RGB{N0f8}(1.0,1.0,1.0)\n",
       " RGB{N0f8}(1.0,1.0,1.0)           RGB{N0f8}(1.0,1.0,1.0)\n",
       " ⋮                             ⋱                        \n",
       " RGB{N0f8}(0.992,1.0,0.988)       RGB{N0f8}(1.0,1.0,1.0)\n",
       " RGB{N0f8}(0.992,1.0,0.988)       RGB{N0f8}(1.0,1.0,1.0)\n",
       " RGB{N0f8}(0.992,1.0,0.996)    …  RGB{N0f8}(1.0,1.0,1.0)\n",
       " RGB{N0f8}(0.996,1.0,1.0)         RGB{N0f8}(1.0,1.0,1.0)\n",
       " RGB{N0f8}(0.996,0.996,0.996)     RGB{N0f8}(1.0,1.0,1.0)\n",
       " RGB{N0f8}(1.0,0.992,0.996)       RGB{N0f8}(1.0,1.0,1.0)\n",
       " RGB{N0f8}(1.0,0.992,0.996)       RGB{N0f8}(1.0,1.0,1.0)\n",
       " RGB{N0f8}(1.0,0.992,0.996)    …  RGB{N0f8}(1.0,1.0,1.0)\n",
       " RGB{N0f8}(1.0,0.996,1.0)         RGB{N0f8}(1.0,1.0,1.0)\n",
       " RGB{N0f8}(1.0,1.0,1.0)           RGB{N0f8}(1.0,1.0,1.0)\n",
       " RGB{N0f8}(1.0,1.0,1.0)           RGB{N0f8}(1.0,1.0,1.0)\n",
       " RGB{N0f8}(1.0,1.0,1.0)           RGB{N0f8}(1.0,1.0,1.0)"
      ]
     },
     "execution_count": 1,
     "metadata": {},
     "output_type": "execute_result"
    }
   ],
   "source": [
    "using Images\n",
    "\n",
    "apple = load(\"data/10_100.jpg\")"
   ]
  },
  {
   "cell_type": "code",
   "execution_count": 2,
   "metadata": {},
   "outputs": [
    {
     "data": {
      "image/png": "[encoded data removed]",
      "text/plain": [
       "100×100 Array{RGB{N0f8},2}:\n",
       " RGB{N0f8}(1.0,1.0,1.0)  RGB{N0f8}(1.0,1.0,1.0)  …  RGB{N0f8}(1.0,1.0,1.0)\n",
       " RGB{N0f8}(1.0,1.0,1.0)  RGB{N0f8}(1.0,1.0,1.0)     RGB{N0f8}(1.0,1.0,1.0)\n",
       " RGB{N0f8}(1.0,1.0,1.0)  RGB{N0f8}(1.0,1.0,1.0)     RGB{N0f8}(1.0,1.0,1.0)\n",
       " RGB{N0f8}(1.0,1.0,1.0)  RGB{N0f8}(1.0,1.0,1.0)     RGB{N0f8}(1.0,1.0,1.0)\n",
       " RGB{N0f8}(1.0,1.0,1.0)  RGB{N0f8}(1.0,1.0,1.0)     RGB{N0f8}(1.0,1.0,1.0)\n",
       " RGB{N0f8}(1.0,1.0,1.0)  RGB{N0f8}(1.0,1.0,1.0)  …  RGB{N0f8}(1.0,1.0,1.0)\n",
       " RGB{N0f8}(1.0,1.0,1.0)  RGB{N0f8}(1.0,1.0,1.0)     RGB{N0f8}(1.0,1.0,1.0)\n",
       " RGB{N0f8}(1.0,1.0,1.0)  RGB{N0f8}(1.0,1.0,1.0)     RGB{N0f8}(1.0,1.0,1.0)\n",
       " RGB{N0f8}(1.0,1.0,1.0)  RGB{N0f8}(1.0,1.0,1.0)     RGB{N0f8}(1.0,1.0,1.0)\n",
       " RGB{N0f8}(1.0,1.0,1.0)  RGB{N0f8}(1.0,1.0,1.0)     RGB{N0f8}(1.0,1.0,1.0)\n",
       " RGB{N0f8}(1.0,1.0,1.0)  RGB{N0f8}(1.0,1.0,1.0)  …  RGB{N0f8}(1.0,1.0,1.0)\n",
       " RGB{N0f8}(1.0,1.0,1.0)  RGB{N0f8}(1.0,1.0,1.0)     RGB{N0f8}(1.0,1.0,1.0)\n",
       " RGB{N0f8}(1.0,1.0,1.0)  RGB{N0f8}(1.0,1.0,1.0)     RGB{N0f8}(1.0,1.0,1.0)\n",
       " ⋮                                               ⋱                        \n",
       " RGB{N0f8}(1.0,1.0,1.0)  RGB{N0f8}(1.0,1.0,1.0)     RGB{N0f8}(1.0,1.0,1.0)\n",
       " RGB{N0f8}(1.0,1.0,1.0)  RGB{N0f8}(1.0,1.0,1.0)     RGB{N0f8}(1.0,1.0,1.0)\n",
       " RGB{N0f8}(1.0,1.0,1.0)  RGB{N0f8}(1.0,1.0,1.0)  …  RGB{N0f8}(1.0,1.0,1.0)\n",
       " RGB{N0f8}(1.0,1.0,1.0)  RGB{N0f8}(1.0,1.0,1.0)     RGB{N0f8}(1.0,1.0,1.0)\n",
       " RGB{N0f8}(1.0,1.0,1.0)  RGB{N0f8}(1.0,1.0,1.0)     RGB{N0f8}(1.0,1.0,1.0)\n",
       " RGB{N0f8}(1.0,1.0,1.0)  RGB{N0f8}(1.0,1.0,1.0)     RGB{N0f8}(1.0,1.0,1.0)\n",
       " RGB{N0f8}(1.0,1.0,1.0)  RGB{N0f8}(1.0,1.0,1.0)     RGB{N0f8}(1.0,1.0,1.0)\n",
       " RGB{N0f8}(1.0,1.0,1.0)  RGB{N0f8}(1.0,1.0,1.0)  …  RGB{N0f8}(1.0,1.0,1.0)\n",
       " RGB{N0f8}(1.0,1.0,1.0)  RGB{N0f8}(1.0,1.0,1.0)     RGB{N0f8}(1.0,1.0,1.0)\n",
       " RGB{N0f8}(1.0,1.0,1.0)  RGB{N0f8}(1.0,1.0,1.0)     RGB{N0f8}(1.0,1.0,1.0)\n",
       " RGB{N0f8}(1.0,1.0,1.0)  RGB{N0f8}(1.0,1.0,1.0)     RGB{N0f8}(1.0,1.0,1.0)\n",
       " RGB{N0f8}(1.0,1.0,1.0)  RGB{N0f8}(1.0,1.0,1.0)     RGB{N0f8}(1.0,1.0,1.0)"
      ]
     },
     "execution_count": 2,
     "metadata": {},
     "output_type": "execute_result"
    }
   ],
   "source": [
    "banana = load(\"data/104_100.jpg\")"
   ]
  },
  {
   "cell_type": "markdown",
   "metadata": {},
   "source": [
    "Here we have images of apples and bananas. We would eventually like to build a program that can automatically distinguish between the two. However, the computer doesn't \"see\" an apple or a banana; instead, it just sees numbers. \n",
    "\n",
    "An image is encoded in something called an **array**, which is like a container that has boxes or slots for individual pieces of data:\n",
    "\n",
    "![attachment:array_cartoon.png](data/array_cartoon.png)\n",
    "\n",
    "An array is a bunch of numbers in connected boxes; the figure above shows a 1-dimensional array. Our images are instead 2-dimensional arrays, or matrices, of numbers, arranged something like this:"
   ]
  },
  {
   "cell_type": "markdown",
   "metadata": {},
   "source": [
    "![attachment:array2d.png](data/array2d.png)"
   ]
  },
  {
   "cell_type": "markdown",
   "metadata": {},
   "source": [
    "For example, `apple` is an image, consisting of a 100x100 array of numbers:"
   ]
  },
  {
   "cell_type": "code",
   "execution_count": 3,
   "metadata": {},
   "outputs": [
    {
     "data": {
      "text/plain": [
       "Array{ColorTypes.RGB{FixedPointNumbers.Normed{UInt8,8}},2}"
      ]
     },
     "execution_count": 3,
     "metadata": {},
     "output_type": "execute_result"
    }
   ],
   "source": [
    "typeof(apple)"
   ]
  },
  {
   "cell_type": "code",
   "execution_count": 5,
   "metadata": {},
   "outputs": [
    {
     "data": {
      "text/plain": [
       "Array{ColorTypes.RGB{FixedPointNumbers.Normed{UInt8,8}},2}"
      ]
     },
     "execution_count": 5,
     "metadata": {},
     "output_type": "execute_result"
    }
   ],
   "source": [
    "typeof(apple)"
   ]
  },
  {
   "cell_type": "code",
   "execution_count": 6,
   "metadata": {},
   "outputs": [
    {
     "data": {
      "text/plain": [
       "2×3 Array{Int64,2}:\n",
       " 1  2  3\n",
       " 4  5  6"
      ]
     },
     "execution_count": 6,
     "metadata": {},
     "output_type": "execute_result"
    }
   ],
   "source": [
    "a = [ 1 2 3;4 5 6]"
   ]
  },
  {
   "cell_type": "code",
   "execution_count": 7,
   "metadata": {},
   "outputs": [
    {
     "data": {
      "text/plain": [
       "(2, 3)"
      ]
     },
     "execution_count": 7,
     "metadata": {},
     "output_type": "execute_result"
    }
   ],
   "source": [
    "size(a)"
   ]
  },
  {
   "cell_type": "markdown",
   "metadata": {},
   "source": [
    "We can grab the datum stored in the box at row `i` and column `j` by *indexing* using square brackets: `[i, j]`. For example, let's get the pixel (piece of the image) in box $(40, 60)$, i.e. in the 40th row and 60th column of the image:"
   ]
  },
  {
   "cell_type": "code",
   "execution_count": 8,
   "metadata": {},
   "outputs": [
    {
     "data": {
      "image/png": "[encoded data removed]",
      "text/plain": [
       "100×100 Array{RGB{N0f8},2}:\n",
       " RGB{N0f8}(0.996,1.0,0.984)    …  RGB{N0f8}(1.0,1.0,1.0)\n",
       " RGB{N0f8}(0.984,1.0,0.988)       RGB{N0f8}(1.0,1.0,1.0)\n",
       " RGB{N0f8}(0.98,1.0,0.996)        RGB{N0f8}(1.0,1.0,1.0)\n",
       " RGB{N0f8}(0.969,1.0,0.992)       RGB{N0f8}(1.0,1.0,1.0)\n",
       " RGB{N0f8}(0.969,1.0,1.0)         RGB{N0f8}(1.0,1.0,1.0)\n",
       " RGB{N0f8}(0.98,1.0,1.0)       …  RGB{N0f8}(1.0,1.0,1.0)\n",
       " RGB{N0f8}(0.992,0.996,1.0)       RGB{N0f8}(1.0,1.0,1.0)\n",
       " RGB{N0f8}(1.0,0.992,1.0)         RGB{N0f8}(1.0,1.0,1.0)\n",
       " RGB{N0f8}(1.0,0.984,1.0)         RGB{N0f8}(1.0,1.0,1.0)\n",
       " RGB{N0f8}(1.0,0.984,1.0)         RGB{N0f8}(1.0,1.0,1.0)\n",
       " RGB{N0f8}(1.0,0.992,1.0)      …  RGB{N0f8}(1.0,1.0,1.0)\n",
       " RGB{N0f8}(1.0,0.996,1.0)         RGB{N0f8}(1.0,1.0,1.0)\n",
       " RGB{N0f8}(1.0,1.0,1.0)           RGB{N0f8}(1.0,1.0,1.0)\n",
       " ⋮                             ⋱                        \n",
       " RGB{N0f8}(0.992,1.0,0.988)       RGB{N0f8}(1.0,1.0,1.0)\n",
       " RGB{N0f8}(0.992,1.0,0.988)       RGB{N0f8}(1.0,1.0,1.0)\n",
       " RGB{N0f8}(0.992,1.0,0.996)    …  RGB{N0f8}(1.0,1.0,1.0)\n",
       " RGB{N0f8}(0.996,1.0,1.0)         RGB{N0f8}(1.0,1.0,1.0)\n",
       " RGB{N0f8}(0.996,0.996,0.996)     RGB{N0f8}(1.0,1.0,1.0)\n",
       " RGB{N0f8}(1.0,0.992,0.996)       RGB{N0f8}(1.0,1.0,1.0)\n",
       " RGB{N0f8}(1.0,0.992,0.996)       RGB{N0f8}(1.0,1.0,1.0)\n",
       " RGB{N0f8}(1.0,0.992,0.996)    …  RGB{N0f8}(1.0,1.0,1.0)\n",
       " RGB{N0f8}(1.0,0.996,1.0)         RGB{N0f8}(1.0,1.0,1.0)\n",
       " RGB{N0f8}(1.0,1.0,1.0)           RGB{N0f8}(1.0,1.0,1.0)\n",
       " RGB{N0f8}(1.0,1.0,1.0)           RGB{N0f8}(1.0,1.0,1.0)\n",
       " RGB{N0f8}(1.0,1.0,1.0)           RGB{N0f8}(1.0,1.0,1.0)"
      ]
     },
     "execution_count": 8,
     "metadata": {},
     "output_type": "execute_result"
    }
   ],
   "source": [
    "apple"
   ]
  },
  {
   "cell_type": "code",
   "execution_count": 9,
   "metadata": {},
   "outputs": [
    {
     "name": "stdout",
     "output_type": "stream",
     "text": [
      "ColorTypes.RGB{FixedPointNumbers.Normed{UInt8,8}} <: ColorTypes.AbstractRGB{FixedPointNumbers.Normed{UInt8,8}}\n",
      "  r::FixedPointNumbers.Normed{UInt8,8}\n",
      "  g::FixedPointNumbers.Normed{UInt8,8}\n",
      "  b::FixedPointNumbers.Normed{UInt8,8}\n"
     ]
    }
   ],
   "source": [
    "dump(typeof(apple[40, 60]))"
   ]
  },
  {
   "cell_type": "code",
   "execution_count": 10,
   "metadata": {},
   "outputs": [
    {
     "data": {
      "image/png": "[encoded data removed]",
      "text/plain": [
       "3×3 Array{RGB{N0f8},2}:\n",
       " RGB{N0f8}(0.639,0.129,0.122)  …  RGB{N0f8}(0.631,0.133,0.11) \n",
       " RGB{N0f8}(0.651,0.133,0.118)     RGB{N0f8}(0.655,0.149,0.129)\n",
       " RGB{N0f8}(0.659,0.141,0.125)     RGB{N0f8}(0.667,0.161,0.141)"
      ]
     },
     "execution_count": 10,
     "metadata": {},
     "output_type": "execute_result"
    }
   ],
   "source": [
    "apple[18:20,29:31]"
   ]
  },
  {
   "cell_type": "markdown",
   "metadata": {},
   "source": [
    "We see that Julia displays a coloured box! Julia, via the `Colors.jl` package, is clever enough to display colours in a way that is useful to us humans!\n",
    "\n",
    "So, in fact, an image is a 2D array, in which each element of the array is an object (a collection of numbers) describing a coloured pixel."
   ]
  },
  {
   "cell_type": "markdown",
   "metadata": {},
   "source": [
    "## Colors as numbers\n",
    "\n",
    "How, then, are these colors actually stored? Computers store colors in RGB format, that is they store a value between 0 and 1 for each of three \"channels\": red, green, and blue. Here, 0 means none of that color and 1 means the brightest form of that color. The overall color is a combination of those three colors. \n",
    "\n",
    "For example, we can pull out the `red` value using the function `red` applied to the color. Since internally the actual value is stored in a special format, we choose to convert it to a standard floating-point number using the `Float64` function:"
   ]
  },
  {
   "cell_type": "code",
   "execution_count": 11,
   "metadata": {},
   "outputs": [
    {
     "data": {
      "text/plain": [
       "0.5215686274509804"
      ]
     },
     "execution_count": 11,
     "metadata": {},
     "output_type": "execute_result"
    }
   ],
   "source": [
    "Float64(red(apple[40, 60]))"
   ]
  },
  {
   "cell_type": "code",
   "execution_count": 12,
   "metadata": {},
   "outputs": [
    {
     "data": {
      "text/plain": [
       "3×2 Array{Float32,2}:\n",
       " 0.570167  0.904002\n",
       " 0.338203  0.880797\n",
       " 0.3225    0.80016 "
      ]
     },
     "execution_count": 12,
     "metadata": {},
     "output_type": "execute_result"
    }
   ],
   "source": [
    " [ mean(float.(c.(img))) for c = [red,green,blue], img = [apple,banana] ]\n",
    "   "
   ]
  },
  {
   "cell_type": "code",
   "execution_count": 13,
   "metadata": {},
   "outputs": [],
   "source": [
    "using Plots"
   ]
  },
  {
   "cell_type": "code",
   "execution_count": 14,
   "metadata": {},
   "outputs": [
    {
     "data": {
      "image/svg+xml": [
       "<?xml version=\"1.0\" encoding=\"utf-8\"?>\n",
       "<svg xmlns=\"http://www.w3.org/2000/svg\" xmlns:xlink=\"http://www.w3.org/1999/xlink\" width=\"600\" height=\"400\" viewBox=\"0 0 600 400\">\n",
       "<defs>\n",
       "  <clipPath id=\"clip2400\">\n",
       "    <rect x=\"0\" y=\"0\" width=\"600\" height=\"400\"/>\n",
       "  </clipPath>\n",
       "</defs>\n",
       "<polygon clip-path=\"url(#clip2400)\" points=\"\n",
       "0,400 600,400 600,0 0,0 \n",
       "  \" fill=\"#ffffff\" fill-opacity=\"1\"/>\n",
       "<defs>\n",
       "  <clipPath id=\"clip2401\">\n",
       "    <rect x=\"120\" y=\"0\" width=\"421\" height=\"400\"/>\n",
       "  </clipPath>\n",
       "</defs>\n",
       "<polygon clip-path=\"url(#clip2400)\" points=\"\n",
       "29.1292,375.869 580.315,375.869 580.315,11.811 29.1292,11.811 \n",
       "  \" fill=\"#ffffff\" fill-opacity=\"1\"/>\n",
       "<defs>\n",
       "  <clipPath id=\"clip2402\">\n",
       "    <rect x=\"29\" y=\"11\" width=\"552\" height=\"365\"/>\n",
       "  </clipPath>\n",
       "</defs>\n",
       "<polyline clip-path=\"url(#clip2402)\" style=\"stroke:#000000; stroke-width:0.5; stroke-opacity:0.1; fill:none\" points=\"\n",
       "  44.7288,375.869 44.7288,11.811 \n",
       "  \"/>\n",
       "<polyline clip-path=\"url(#clip2402)\" style=\"stroke:#000000; stroke-width:0.5; stroke-opacity:0.1; fill:none\" points=\"\n",
       "  168.535,375.869 168.535,11.811 \n",
       "  \"/>\n",
       "<polyline clip-path=\"url(#clip2402)\" style=\"stroke:#000000; stroke-width:0.5; stroke-opacity:0.1; fill:none\" points=\"\n",
       "  292.341,375.869 292.341,11.811 \n",
       "  \"/>\n",
       "<polyline clip-path=\"url(#clip2402)\" style=\"stroke:#000000; stroke-width:0.5; stroke-opacity:0.1; fill:none\" points=\"\n",
       "  416.148,375.869 416.148,11.811 \n",
       "  \"/>\n",
       "<polyline clip-path=\"url(#clip2402)\" style=\"stroke:#000000; stroke-width:0.5; stroke-opacity:0.1; fill:none\" points=\"\n",
       "  539.954,375.869 539.954,11.811 \n",
       "  \"/>\n",
       "<polyline clip-path=\"url(#clip2402)\" style=\"stroke:#000000; stroke-width:0.5; stroke-opacity:0.1; fill:none\" points=\"\n",
       "  29.1292,375.869 580.315,375.869 \n",
       "  \"/>\n",
       "<polyline clip-path=\"url(#clip2402)\" style=\"stroke:#000000; stroke-width:0.5; stroke-opacity:0.1; fill:none\" points=\"\n",
       "  29.1292,321.83 580.315,321.83 \n",
       "  \"/>\n",
       "<polyline clip-path=\"url(#clip2402)\" style=\"stroke:#000000; stroke-width:0.5; stroke-opacity:0.1; fill:none\" points=\"\n",
       "  29.1292,267.792 580.315,267.792 \n",
       "  \"/>\n",
       "<polyline clip-path=\"url(#clip2402)\" style=\"stroke:#000000; stroke-width:0.5; stroke-opacity:0.1; fill:none\" points=\"\n",
       "  29.1292,213.753 580.315,213.753 \n",
       "  \"/>\n",
       "<polyline clip-path=\"url(#clip2402)\" style=\"stroke:#000000; stroke-width:0.5; stroke-opacity:0.1; fill:none\" points=\"\n",
       "  29.1292,159.715 580.315,159.715 \n",
       "  \"/>\n",
       "<polyline clip-path=\"url(#clip2402)\" style=\"stroke:#000000; stroke-width:0.5; stroke-opacity:0.1; fill:none\" points=\"\n",
       "  29.1292,105.676 580.315,105.676 \n",
       "  \"/>\n",
       "<polyline clip-path=\"url(#clip2402)\" style=\"stroke:#000000; stroke-width:0.5; stroke-opacity:0.1; fill:none\" points=\"\n",
       "  29.1292,51.6374 580.315,51.6374 \n",
       "  \"/>\n",
       "<polyline clip-path=\"url(#clip2400)\" style=\"stroke:#000000; stroke-width:1; stroke-opacity:1; fill:none\" points=\"\n",
       "  29.1292,375.869 580.315,375.869 \n",
       "  \"/>\n",
       "<polyline clip-path=\"url(#clip2400)\" style=\"stroke:#000000; stroke-width:1; stroke-opacity:1; fill:none\" points=\"\n",
       "  29.1292,375.869 29.1292,11.811 \n",
       "  \"/>\n",
       "<polyline clip-path=\"url(#clip2400)\" style=\"stroke:#000000; stroke-width:1; stroke-opacity:1; fill:none\" points=\"\n",
       "  44.7288,375.869 44.7288,370.408 \n",
       "  \"/>\n",
       "<polyline clip-path=\"url(#clip2400)\" style=\"stroke:#000000; stroke-width:1; stroke-opacity:1; fill:none\" points=\"\n",
       "  168.535,375.869 168.535,370.408 \n",
       "  \"/>\n",
       "<polyline clip-path=\"url(#clip2400)\" style=\"stroke:#000000; stroke-width:1; stroke-opacity:1; fill:none\" points=\"\n",
       "  292.341,375.869 292.341,370.408 \n",
       "  \"/>\n",
       "<polyline clip-path=\"url(#clip2400)\" style=\"stroke:#000000; stroke-width:1; stroke-opacity:1; fill:none\" points=\"\n",
       "  416.148,375.869 416.148,370.408 \n",
       "  \"/>\n",
       "<polyline clip-path=\"url(#clip2400)\" style=\"stroke:#000000; stroke-width:1; stroke-opacity:1; fill:none\" points=\"\n",
       "  539.954,375.869 539.954,370.408 \n",
       "  \"/>\n",
       "<polyline clip-path=\"url(#clip2400)\" style=\"stroke:#000000; stroke-width:1; stroke-opacity:1; fill:none\" points=\"\n",
       "  29.1292,375.869 37.397,375.869 \n",
       "  \"/>\n",
       "<polyline clip-path=\"url(#clip2400)\" style=\"stroke:#000000; stroke-width:1; stroke-opacity:1; fill:none\" points=\"\n",
       "  29.1292,321.83 37.397,321.83 \n",
       "  \"/>\n",
       "<polyline clip-path=\"url(#clip2400)\" style=\"stroke:#000000; stroke-width:1; stroke-opacity:1; fill:none\" points=\"\n",
       "  29.1292,267.792 37.397,267.792 \n",
       "  \"/>\n",
       "<polyline clip-path=\"url(#clip2400)\" style=\"stroke:#000000; stroke-width:1; stroke-opacity:1; fill:none\" points=\"\n",
       "  29.1292,213.753 37.397,213.753 \n",
       "  \"/>\n",
       "<polyline clip-path=\"url(#clip2400)\" style=\"stroke:#000000; stroke-width:1; stroke-opacity:1; fill:none\" points=\"\n",
       "  29.1292,159.715 37.397,159.715 \n",
       "  \"/>\n",
       "<polyline clip-path=\"url(#clip2400)\" style=\"stroke:#000000; stroke-width:1; stroke-opacity:1; fill:none\" points=\"\n",
       "  29.1292,105.676 37.397,105.676 \n",
       "  \"/>\n",
       "<polyline clip-path=\"url(#clip2400)\" style=\"stroke:#000000; stroke-width:1; stroke-opacity:1; fill:none\" points=\"\n",
       "  29.1292,51.6374 37.397,51.6374 \n",
       "  \"/>\n",
       "<g clip-path=\"url(#clip2400)\">\n",
       "<text style=\"fill:#000000; fill-opacity:1; font-family:Arial,Helvetica Neue,Helvetica,sans-serif; font-size:12; text-anchor:middle;\" transform=\"rotate(0, 44.7288, 389.669)\" x=\"44.7288\" y=\"389.669\">0.00</text>\n",
       "</g>\n",
       "<g clip-path=\"url(#clip2400)\">\n",
       "<text style=\"fill:#000000; fill-opacity:1; font-family:Arial,Helvetica Neue,Helvetica,sans-serif; font-size:12; text-anchor:middle;\" transform=\"rotate(0, 168.535, 389.669)\" x=\"168.535\" y=\"389.669\">0.25</text>\n",
       "</g>\n",
       "<g clip-path=\"url(#clip2400)\">\n",
       "<text style=\"fill:#000000; fill-opacity:1; font-family:Arial,Helvetica Neue,Helvetica,sans-serif; font-size:12; text-anchor:middle;\" transform=\"rotate(0, 292.341, 389.669)\" x=\"292.341\" y=\"389.669\">0.50</text>\n",
       "</g>\n",
       "<g clip-path=\"url(#clip2400)\">\n",
       "<text style=\"fill:#000000; fill-opacity:1; font-family:Arial,Helvetica Neue,Helvetica,sans-serif; font-size:12; text-anchor:middle;\" transform=\"rotate(0, 416.148, 389.669)\" x=\"416.148\" y=\"389.669\">0.75</text>\n",
       "</g>\n",
       "<g clip-path=\"url(#clip2400)\">\n",
       "<text style=\"fill:#000000; fill-opacity:1; font-family:Arial,Helvetica Neue,Helvetica,sans-serif; font-size:12; text-anchor:middle;\" transform=\"rotate(0, 539.954, 389.669)\" x=\"539.954\" y=\"389.669\">1.00</text>\n",
       "</g>\n",
       "<g clip-path=\"url(#clip2400)\">\n",
       "<text style=\"fill:#000000; fill-opacity:1; font-family:Arial,Helvetica Neue,Helvetica,sans-serif; font-size:12; text-anchor:end;\" transform=\"rotate(0, 23.1292, 380.369)\" x=\"23.1292\" y=\"380.369\">0</text>\n",
       "</g>\n",
       "<g clip-path=\"url(#clip2400)\">\n",
       "<text style=\"fill:#000000; fill-opacity:1; font-family:Arial,Helvetica Neue,Helvetica,sans-serif; font-size:12; text-anchor:end;\" transform=\"rotate(0, 23.1292, 326.33)\" x=\"23.1292\" y=\"326.33\">2</text>\n",
       "</g>\n",
       "<g clip-path=\"url(#clip2400)\">\n",
       "<text style=\"fill:#000000; fill-opacity:1; font-family:Arial,Helvetica Neue,Helvetica,sans-serif; font-size:12; text-anchor:end;\" transform=\"rotate(0, 23.1292, 272.292)\" x=\"23.1292\" y=\"272.292\">4</text>\n",
       "</g>\n",
       "<g clip-path=\"url(#clip2400)\">\n",
       "<text style=\"fill:#000000; fill-opacity:1; font-family:Arial,Helvetica Neue,Helvetica,sans-serif; font-size:12; text-anchor:end;\" transform=\"rotate(0, 23.1292, 218.253)\" x=\"23.1292\" y=\"218.253\">6</text>\n",
       "</g>\n",
       "<g clip-path=\"url(#clip2400)\">\n",
       "<text style=\"fill:#000000; fill-opacity:1; font-family:Arial,Helvetica Neue,Helvetica,sans-serif; font-size:12; text-anchor:end;\" transform=\"rotate(0, 23.1292, 164.215)\" x=\"23.1292\" y=\"164.215\">8</text>\n",
       "</g>\n",
       "<g clip-path=\"url(#clip2400)\">\n",
       "<text style=\"fill:#000000; fill-opacity:1; font-family:Arial,Helvetica Neue,Helvetica,sans-serif; font-size:12; text-anchor:end;\" transform=\"rotate(0, 23.1292, 110.176)\" x=\"23.1292\" y=\"110.176\">10</text>\n",
       "</g>\n",
       "<g clip-path=\"url(#clip2400)\">\n",
       "<text style=\"fill:#000000; fill-opacity:1; font-family:Arial,Helvetica Neue,Helvetica,sans-serif; font-size:12; text-anchor:end;\" transform=\"rotate(0, 23.1292, 56.1374)\" x=\"23.1292\" y=\"56.1374\">12</text>\n",
       "</g>\n",
       "<polygon clip-path=\"url(#clip2402)\" points=\"\n",
       "44.7288,241.529 44.7288,375.869 69.4901,375.869 69.4901,241.529 44.7288,241.529 44.7288,241.529 \n",
       "  \" fill=\"#ff0000\" fill-opacity=\"1\"/>\n",
       "<polyline clip-path=\"url(#clip2402)\" style=\"stroke:#000000; stroke-width:1; stroke-opacity:1; fill:none\" points=\"\n",
       "  44.7288,241.529 44.7288,375.869 69.4901,375.869 69.4901,241.529 44.7288,241.529 \n",
       "  \"/>\n",
       "<polygon clip-path=\"url(#clip2402)\" points=\"\n",
       "69.4901,273.844 69.4901,375.869 94.2513,375.869 94.2513,273.844 69.4901,273.844 69.4901,273.844 \n",
       "  \" fill=\"#ff0000\" fill-opacity=\"1\"/>\n",
       "<polyline clip-path=\"url(#clip2402)\" style=\"stroke:#000000; stroke-width:1; stroke-opacity:1; fill:none\" points=\"\n",
       "  69.4901,273.844 69.4901,375.869 94.2513,375.869 94.2513,273.844 69.4901,273.844 \n",
       "  \"/>\n",
       "<polygon clip-path=\"url(#clip2402)\" points=\"\n",
       "94.2513,316.805 94.2513,375.869 119.013,375.869 119.013,316.805 94.2513,316.805 94.2513,316.805 \n",
       "  \" fill=\"#ff0000\" fill-opacity=\"1\"/>\n",
       "<polyline clip-path=\"url(#clip2402)\" style=\"stroke:#000000; stroke-width:1; stroke-opacity:1; fill:none\" points=\"\n",
       "  94.2513,316.805 94.2513,375.869 119.013,375.869 119.013,316.805 94.2513,316.805 \n",
       "  \"/>\n",
       "<polygon clip-path=\"url(#clip2402)\" points=\"\n",
       "119.013,340.96 119.013,375.869 143.774,375.869 143.774,340.96 119.013,340.96 119.013,340.96 \n",
       "  \" fill=\"#ff0000\" fill-opacity=\"1\"/>\n",
       "<polyline clip-path=\"url(#clip2402)\" style=\"stroke:#000000; stroke-width:1; stroke-opacity:1; fill:none\" points=\"\n",
       "  119.013,340.96 119.013,375.869 143.774,375.869 143.774,340.96 119.013,340.96 \n",
       "  \"/>\n",
       "<polygon clip-path=\"url(#clip2402)\" points=\"\n",
       "143.774,352.146 143.774,375.869 168.535,375.869 168.535,352.146 143.774,352.146 143.774,352.146 \n",
       "  \" fill=\"#ff0000\" fill-opacity=\"1\"/>\n",
       "<polyline clip-path=\"url(#clip2402)\" style=\"stroke:#000000; stroke-width:1; stroke-opacity:1; fill:none\" points=\"\n",
       "  143.774,352.146 143.774,375.869 168.535,375.869 168.535,352.146 143.774,352.146 \n",
       "  \"/>\n",
       "<polygon clip-path=\"url(#clip2402)\" points=\"\n",
       "168.535,360.468 168.535,375.869 193.296,375.869 193.296,360.468 168.535,360.468 168.535,360.468 \n",
       "  \" fill=\"#ff0000\" fill-opacity=\"1\"/>\n",
       "<polyline clip-path=\"url(#clip2402)\" style=\"stroke:#000000; stroke-width:1; stroke-opacity:1; fill:none\" points=\"\n",
       "  168.535,360.468 168.535,375.869 193.296,375.869 193.296,360.468 168.535,360.468 \n",
       "  \"/>\n",
       "<polygon clip-path=\"url(#clip2402)\" points=\"\n",
       "193.296,365.439 193.296,375.869 218.058,375.869 218.058,365.439 193.296,365.439 193.296,365.439 \n",
       "  \" fill=\"#ff0000\" fill-opacity=\"1\"/>\n",
       "<polyline clip-path=\"url(#clip2402)\" style=\"stroke:#000000; stroke-width:1; stroke-opacity:1; fill:none\" points=\"\n",
       "  193.296,365.439 193.296,375.869 218.058,375.869 218.058,365.439 193.296,365.439 \n",
       "  \"/>\n",
       "<polygon clip-path=\"url(#clip2402)\" points=\"\n",
       "218.058,369.762 218.058,375.869 242.819,375.869 242.819,369.762 218.058,369.762 218.058,369.762 \n",
       "  \" fill=\"#ff0000\" fill-opacity=\"1\"/>\n",
       "<polyline clip-path=\"url(#clip2402)\" style=\"stroke:#000000; stroke-width:1; stroke-opacity:1; fill:none\" points=\"\n",
       "  218.058,369.762 218.058,375.869 242.819,375.869 242.819,369.762 218.058,369.762 \n",
       "  \"/>\n",
       "<polygon clip-path=\"url(#clip2402)\" points=\"\n",
       "242.819,371.546 242.819,375.869 267.58,375.869 267.58,371.546 242.819,371.546 242.819,371.546 \n",
       "  \" fill=\"#ff0000\" fill-opacity=\"1\"/>\n",
       "<polyline clip-path=\"url(#clip2402)\" style=\"stroke:#000000; stroke-width:1; stroke-opacity:1; fill:none\" points=\"\n",
       "  242.819,371.546 242.819,375.869 267.58,375.869 267.58,371.546 242.819,371.546 \n",
       "  \"/>\n",
       "<polygon clip-path=\"url(#clip2402)\" points=\"\n",
       "267.58,372.086 267.58,375.869 292.341,375.869 292.341,372.086 267.58,372.086 267.58,372.086 \n",
       "  \" fill=\"#ff0000\" fill-opacity=\"1\"/>\n",
       "<polyline clip-path=\"url(#clip2402)\" style=\"stroke:#000000; stroke-width:1; stroke-opacity:1; fill:none\" points=\"\n",
       "  267.58,372.086 267.58,375.869 292.341,375.869 292.341,372.086 267.58,372.086 \n",
       "  \"/>\n",
       "<polygon clip-path=\"url(#clip2402)\" points=\"\n",
       "292.341,372.464 292.341,375.869 317.103,375.869 317.103,372.464 292.341,372.464 292.341,372.464 \n",
       "  \" fill=\"#ff0000\" fill-opacity=\"1\"/>\n",
       "<polyline clip-path=\"url(#clip2402)\" style=\"stroke:#000000; stroke-width:1; stroke-opacity:1; fill:none\" points=\"\n",
       "  292.341,372.464 292.341,375.869 317.103,375.869 317.103,372.464 292.341,372.464 \n",
       "  \"/>\n",
       "<polygon clip-path=\"url(#clip2402)\" points=\"\n",
       "317.103,372.41 317.103,375.869 341.864,375.869 341.864,372.41 317.103,372.41 317.103,372.41 \n",
       "  \" fill=\"#ff0000\" fill-opacity=\"1\"/>\n",
       "<polyline clip-path=\"url(#clip2402)\" style=\"stroke:#000000; stroke-width:1; stroke-opacity:1; fill:none\" points=\"\n",
       "  317.103,372.41 317.103,375.869 341.864,375.869 341.864,372.41 317.103,372.41 \n",
       "  \"/>\n",
       "<polygon clip-path=\"url(#clip2402)\" points=\"\n",
       "341.864,372.464 341.864,375.869 366.625,375.869 366.625,372.464 341.864,372.464 341.864,372.464 \n",
       "  \" fill=\"#ff0000\" fill-opacity=\"1\"/>\n",
       "<polyline clip-path=\"url(#clip2402)\" style=\"stroke:#000000; stroke-width:1; stroke-opacity:1; fill:none\" points=\"\n",
       "  341.864,372.464 341.864,375.869 366.625,375.869 366.625,372.464 341.864,372.464 \n",
       "  \"/>\n",
       "<polygon clip-path=\"url(#clip2402)\" points=\"\n",
       "366.625,374.734 366.625,375.869 391.387,375.869 391.387,374.734 366.625,374.734 366.625,374.734 \n",
       "  \" fill=\"#ff0000\" fill-opacity=\"1\"/>\n",
       "<polyline clip-path=\"url(#clip2402)\" style=\"stroke:#000000; stroke-width:1; stroke-opacity:1; fill:none\" points=\"\n",
       "  366.625,374.734 366.625,375.869 391.387,375.869 391.387,374.734 366.625,374.734 \n",
       "  \"/>\n",
       "<polygon clip-path=\"url(#clip2402)\" points=\"\n",
       "391.387,374.572 391.387,375.869 416.148,375.869 416.148,374.572 391.387,374.572 391.387,374.572 \n",
       "  \" fill=\"#ff0000\" fill-opacity=\"1\"/>\n",
       "<polyline clip-path=\"url(#clip2402)\" style=\"stroke:#000000; stroke-width:1; stroke-opacity:1; fill:none\" points=\"\n",
       "  391.387,374.572 391.387,375.869 416.148,375.869 416.148,374.572 391.387,374.572 \n",
       "  \"/>\n",
       "<polygon clip-path=\"url(#clip2402)\" points=\"\n",
       "416.148,374.518 416.148,375.869 440.909,375.869 440.909,374.518 416.148,374.518 416.148,374.518 \n",
       "  \" fill=\"#ff0000\" fill-opacity=\"1\"/>\n",
       "<polyline clip-path=\"url(#clip2402)\" style=\"stroke:#000000; stroke-width:1; stroke-opacity:1; fill:none\" points=\"\n",
       "  416.148,374.518 416.148,375.869 440.909,375.869 440.909,374.518 416.148,374.518 \n",
       "  \"/>\n",
       "<polygon clip-path=\"url(#clip2402)\" points=\"\n",
       "440.909,373.545 440.909,375.869 465.67,375.869 465.67,373.545 440.909,373.545 440.909,373.545 \n",
       "  \" fill=\"#ff0000\" fill-opacity=\"1\"/>\n",
       "<polyline clip-path=\"url(#clip2402)\" style=\"stroke:#000000; stroke-width:1; stroke-opacity:1; fill:none\" points=\"\n",
       "  440.909,373.545 440.909,375.869 465.67,375.869 465.67,373.545 440.909,373.545 \n",
       "  \"/>\n",
       "<polygon clip-path=\"url(#clip2402)\" points=\"\n",
       "465.67,373.707 465.67,375.869 490.432,375.869 490.432,373.707 465.67,373.707 465.67,373.707 \n",
       "  \" fill=\"#ff0000\" fill-opacity=\"1\"/>\n",
       "<polyline clip-path=\"url(#clip2402)\" style=\"stroke:#000000; stroke-width:1; stroke-opacity:1; fill:none\" points=\"\n",
       "  465.67,373.707 465.67,375.869 490.432,375.869 490.432,373.707 465.67,373.707 \n",
       "  \"/>\n",
       "<polygon clip-path=\"url(#clip2402)\" points=\"\n",
       "490.432,374.193 490.432,375.869 515.193,375.869 515.193,374.193 490.432,374.193 490.432,374.193 \n",
       "  \" fill=\"#ff0000\" fill-opacity=\"1\"/>\n",
       "<polyline clip-path=\"url(#clip2402)\" style=\"stroke:#000000; stroke-width:1; stroke-opacity:1; fill:none\" points=\"\n",
       "  490.432,374.193 490.432,375.869 515.193,375.869 515.193,374.193 490.432,374.193 \n",
       "  \"/>\n",
       "<polygon clip-path=\"url(#clip2402)\" points=\"\n",
       "515.193,324.154 515.193,375.869 539.954,375.869 539.954,324.154 515.193,324.154 515.193,324.154 \n",
       "  \" fill=\"#ff0000\" fill-opacity=\"1\"/>\n",
       "<polyline clip-path=\"url(#clip2402)\" style=\"stroke:#000000; stroke-width:1; stroke-opacity:1; fill:none\" points=\"\n",
       "  515.193,324.154 515.193,375.869 539.954,375.869 539.954,324.154 515.193,324.154 \n",
       "  \"/>\n",
       "<polygon clip-path=\"url(#clip2402)\" points=\"\n",
       "539.954,301.512 539.954,375.869 564.715,375.869 564.715,301.512 539.954,301.512 539.954,301.512 \n",
       "  \" fill=\"#ff0000\" fill-opacity=\"1\"/>\n",
       "<polyline clip-path=\"url(#clip2402)\" style=\"stroke:#000000; stroke-width:1; stroke-opacity:1; fill:none\" points=\"\n",
       "  539.954,301.512 539.954,375.869 564.715,375.869 564.715,301.512 539.954,301.512 \n",
       "  \"/>\n",
       "<polygon clip-path=\"url(#clip2402)\" points=\"\n",
       "94.2513,375.815 94.2513,375.869 119.013,375.869 119.013,375.815 94.2513,375.815 94.2513,375.815 \n",
       "  \" fill=\"#ffff00\" fill-opacity=\"1\"/>\n",
       "<polyline clip-path=\"url(#clip2402)\" style=\"stroke:#000000; stroke-width:1; stroke-opacity:1; fill:none\" points=\"\n",
       "  94.2513,375.815 94.2513,375.869 119.013,375.869 119.013,375.815 94.2513,375.815 \n",
       "  \"/>\n",
       "<polygon clip-path=\"url(#clip2402)\" points=\"\n",
       "119.013,375.598 119.013,375.869 143.774,375.869 143.774,375.598 119.013,375.598 119.013,375.598 \n",
       "  \" fill=\"#ffff00\" fill-opacity=\"1\"/>\n",
       "<polyline clip-path=\"url(#clip2402)\" style=\"stroke:#000000; stroke-width:1; stroke-opacity:1; fill:none\" points=\"\n",
       "  119.013,375.598 119.013,375.869 143.774,375.869 143.774,375.598 119.013,375.598 \n",
       "  \"/>\n",
       "<polygon clip-path=\"url(#clip2402)\" points=\"\n",
       "143.774,375.436 143.774,375.869 168.535,375.869 168.535,375.436 143.774,375.436 143.774,375.436 \n",
       "  \" fill=\"#ffff00\" fill-opacity=\"1\"/>\n",
       "<polyline clip-path=\"url(#clip2402)\" style=\"stroke:#000000; stroke-width:1; stroke-opacity:1; fill:none\" points=\"\n",
       "  143.774,375.436 143.774,375.869 168.535,375.869 168.535,375.436 143.774,375.436 \n",
       "  \"/>\n",
       "<polygon clip-path=\"url(#clip2402)\" points=\"\n",
       "168.535,373.221 168.535,375.869 193.296,375.869 193.296,373.221 168.535,373.221 168.535,373.221 \n",
       "  \" fill=\"#ffff00\" fill-opacity=\"1\"/>\n",
       "<polyline clip-path=\"url(#clip2402)\" style=\"stroke:#000000; stroke-width:1; stroke-opacity:1; fill:none\" points=\"\n",
       "  168.535,373.221 168.535,375.869 193.296,375.869 193.296,373.221 168.535,373.221 \n",
       "  \"/>\n",
       "<polygon clip-path=\"url(#clip2402)\" points=\"\n",
       "193.296,370.249 193.296,375.869 218.058,375.869 218.058,370.249 193.296,370.249 193.296,370.249 \n",
       "  \" fill=\"#ffff00\" fill-opacity=\"1\"/>\n",
       "<polyline clip-path=\"url(#clip2402)\" style=\"stroke:#000000; stroke-width:1; stroke-opacity:1; fill:none\" points=\"\n",
       "  193.296,370.249 193.296,375.869 218.058,375.869 218.058,370.249 193.296,370.249 \n",
       "  \"/>\n",
       "<polygon clip-path=\"url(#clip2402)\" points=\"\n",
       "218.058,369.6 218.058,375.869 242.819,375.869 242.819,369.6 218.058,369.6 218.058,369.6 \n",
       "  \" fill=\"#ffff00\" fill-opacity=\"1\"/>\n",
       "<polyline clip-path=\"url(#clip2402)\" style=\"stroke:#000000; stroke-width:1; stroke-opacity:1; fill:none\" points=\"\n",
       "  218.058,369.6 218.058,375.869 242.819,375.869 242.819,369.6 218.058,369.6 \n",
       "  \"/>\n",
       "<polygon clip-path=\"url(#clip2402)\" points=\"\n",
       "242.819,364.683 242.819,375.869 267.58,375.869 267.58,364.683 242.819,364.683 242.819,364.683 \n",
       "  \" fill=\"#ffff00\" fill-opacity=\"1\"/>\n",
       "<polyline clip-path=\"url(#clip2402)\" style=\"stroke:#000000; stroke-width:1; stroke-opacity:1; fill:none\" points=\"\n",
       "  242.819,364.683 242.819,375.869 267.58,375.869 267.58,364.683 242.819,364.683 \n",
       "  \"/>\n",
       "<polygon clip-path=\"url(#clip2402)\" points=\"\n",
       "267.58,357.225 267.58,375.869 292.341,375.869 292.341,357.225 267.58,357.225 267.58,357.225 \n",
       "  \" fill=\"#ffff00\" fill-opacity=\"1\"/>\n",
       "<polyline clip-path=\"url(#clip2402)\" style=\"stroke:#000000; stroke-width:1; stroke-opacity:1; fill:none\" points=\"\n",
       "  267.58,357.225 267.58,375.869 292.341,375.869 292.341,357.225 267.58,357.225 \n",
       "  \"/>\n",
       "<polygon clip-path=\"url(#clip2402)\" points=\"\n",
       "292.341,336.637 292.341,375.869 317.103,375.869 317.103,336.637 292.341,336.637 292.341,336.637 \n",
       "  \" fill=\"#ffff00\" fill-opacity=\"1\"/>\n",
       "<polyline clip-path=\"url(#clip2402)\" style=\"stroke:#000000; stroke-width:1; stroke-opacity:1; fill:none\" points=\"\n",
       "  292.341,336.637 292.341,375.869 317.103,375.869 317.103,336.637 292.341,336.637 \n",
       "  \"/>\n",
       "<polygon clip-path=\"url(#clip2402)\" points=\"\n",
       "317.103,338.204 317.103,375.869 341.864,375.869 341.864,338.204 317.103,338.204 317.103,338.204 \n",
       "  \" fill=\"#ffff00\" fill-opacity=\"1\"/>\n",
       "<polyline clip-path=\"url(#clip2402)\" style=\"stroke:#000000; stroke-width:1; stroke-opacity:1; fill:none\" points=\"\n",
       "  317.103,338.204 317.103,375.869 341.864,375.869 341.864,338.204 317.103,338.204 \n",
       "  \"/>\n",
       "<polygon clip-path=\"url(#clip2402)\" points=\"\n",
       "341.864,373.815 341.864,375.869 366.625,375.869 366.625,373.815 341.864,373.815 341.864,373.815 \n",
       "  \" fill=\"#ffff00\" fill-opacity=\"1\"/>\n",
       "<polyline clip-path=\"url(#clip2402)\" style=\"stroke:#000000; stroke-width:1; stroke-opacity:1; fill:none\" points=\"\n",
       "  341.864,373.815 341.864,375.869 366.625,375.869 366.625,373.815 341.864,373.815 \n",
       "  \"/>\n",
       "<polygon clip-path=\"url(#clip2402)\" points=\"\n",
       "366.625,373.761 366.625,375.869 391.387,375.869 391.387,373.761 366.625,373.761 366.625,373.761 \n",
       "  \" fill=\"#ffff00\" fill-opacity=\"1\"/>\n",
       "<polyline clip-path=\"url(#clip2402)\" style=\"stroke:#000000; stroke-width:1; stroke-opacity:1; fill:none\" points=\"\n",
       "  366.625,373.761 366.625,375.869 391.387,375.869 391.387,373.761 366.625,373.761 \n",
       "  \"/>\n",
       "<polygon clip-path=\"url(#clip2402)\" points=\"\n",
       "391.387,374.031 391.387,375.869 416.148,375.869 416.148,374.031 391.387,374.031 391.387,374.031 \n",
       "  \" fill=\"#ffff00\" fill-opacity=\"1\"/>\n",
       "<polyline clip-path=\"url(#clip2402)\" style=\"stroke:#000000; stroke-width:1; stroke-opacity:1; fill:none\" points=\"\n",
       "  391.387,374.031 391.387,375.869 416.148,375.869 416.148,374.031 391.387,374.031 \n",
       "  \"/>\n",
       "<polygon clip-path=\"url(#clip2402)\" points=\"\n",
       "416.148,373.815 416.148,375.869 440.909,375.869 440.909,373.815 416.148,373.815 416.148,373.815 \n",
       "  \" fill=\"#ffff00\" fill-opacity=\"1\"/>\n",
       "<polyline clip-path=\"url(#clip2402)\" style=\"stroke:#000000; stroke-width:1; stroke-opacity:1; fill:none\" points=\"\n",
       "  416.148,373.815 416.148,375.869 440.909,375.869 440.909,373.815 416.148,373.815 \n",
       "  \"/>\n",
       "<polygon clip-path=\"url(#clip2402)\" points=\"\n",
       "440.909,374.464 440.909,375.869 465.67,375.869 465.67,374.464 440.909,374.464 440.909,374.464 \n",
       "  \" fill=\"#ffff00\" fill-opacity=\"1\"/>\n",
       "<polyline clip-path=\"url(#clip2402)\" style=\"stroke:#000000; stroke-width:1; stroke-opacity:1; fill:none\" points=\"\n",
       "  440.909,374.464 440.909,375.869 465.67,375.869 465.67,374.464 440.909,374.464 \n",
       "  \"/>\n",
       "<polygon clip-path=\"url(#clip2402)\" points=\"\n",
       "465.67,373.761 465.67,375.869 490.432,375.869 490.432,373.761 465.67,373.761 465.67,373.761 \n",
       "  \" fill=\"#ffff00\" fill-opacity=\"1\"/>\n",
       "<polyline clip-path=\"url(#clip2402)\" style=\"stroke:#000000; stroke-width:1; stroke-opacity:1; fill:none\" points=\"\n",
       "  465.67,373.761 465.67,375.869 490.432,375.869 490.432,373.761 465.67,373.761 \n",
       "  \"/>\n",
       "<polygon clip-path=\"url(#clip2402)\" points=\"\n",
       "490.432,374.139 490.432,375.869 515.193,375.869 515.193,374.139 490.432,374.139 490.432,374.139 \n",
       "  \" fill=\"#ffff00\" fill-opacity=\"1\"/>\n",
       "<polyline clip-path=\"url(#clip2402)\" style=\"stroke:#000000; stroke-width:1; stroke-opacity:1; fill:none\" points=\"\n",
       "  490.432,374.139 490.432,375.869 515.193,375.869 515.193,374.139 490.432,374.139 \n",
       "  \"/>\n",
       "<polygon clip-path=\"url(#clip2402)\" points=\"\n",
       "515.193,334.853 515.193,375.869 539.954,375.869 539.954,334.853 515.193,334.853 515.193,334.853 \n",
       "  \" fill=\"#ffff00\" fill-opacity=\"1\"/>\n",
       "<polyline clip-path=\"url(#clip2402)\" style=\"stroke:#000000; stroke-width:1; stroke-opacity:1; fill:none\" points=\"\n",
       "  515.193,334.853 515.193,375.869 539.954,375.869 539.954,334.853 515.193,334.853 \n",
       "  \"/>\n",
       "<polygon clip-path=\"url(#clip2402)\" points=\"\n",
       "539.954,11.811 539.954,375.869 564.715,375.869 564.715,11.811 539.954,11.811 539.954,11.811 \n",
       "  \" fill=\"#ffff00\" fill-opacity=\"1\"/>\n",
       "<polyline clip-path=\"url(#clip2402)\" style=\"stroke:#000000; stroke-width:1; stroke-opacity:1; fill:none\" points=\"\n",
       "  539.954,11.811 539.954,375.869 564.715,375.869 564.715,11.811 539.954,11.811 \n",
       "  \"/>\n",
       "<polygon clip-path=\"url(#clip2400)\" points=\"\n",
       "462.171,78.051 562.315,78.051 562.315,32.691 462.171,32.691 \n",
       "  \" fill=\"#ffffff\" fill-opacity=\"1\"/>\n",
       "<polyline clip-path=\"url(#clip2400)\" style=\"stroke:#000000; stroke-width:1; stroke-opacity:1; fill:none\" points=\"\n",
       "  462.171,78.051 562.315,78.051 562.315,32.691 462.171,32.691 462.171,78.051 \n",
       "  \"/>\n",
       "<polygon clip-path=\"url(#clip2400)\" points=\"\n",
       "468.171,53.859 504.171,53.859 504.171,41.763 468.171,41.763 468.171,53.859 \n",
       "  \" fill=\"#ff0000\" fill-opacity=\"1\"/>\n",
       "<polyline clip-path=\"url(#clip2400)\" style=\"stroke:#000000; stroke-width:1; stroke-opacity:1; fill:none\" points=\"\n",
       "  468.171,53.859 504.171,53.859 504.171,41.763 468.171,41.763 468.171,53.859 \n",
       "  \"/>\n",
       "<g clip-path=\"url(#clip2400)\">\n",
       "<text style=\"fill:#000000; fill-opacity:1; font-family:Arial,Helvetica Neue,Helvetica,sans-serif; font-size:12; text-anchor:start;\" transform=\"rotate(0, 510.171, 52.311)\" x=\"510.171\" y=\"52.311\">apple</text>\n",
       "</g>\n",
       "<polygon clip-path=\"url(#clip2400)\" points=\"\n",
       "468.171,68.979 504.171,68.979 504.171,56.883 468.171,56.883 468.171,68.979 \n",
       "  \" fill=\"#ffff00\" fill-opacity=\"1\"/>\n",
       "<polyline clip-path=\"url(#clip2400)\" style=\"stroke:#000000; stroke-width:1; stroke-opacity:1; fill:none\" points=\"\n",
       "  468.171,68.979 504.171,68.979 504.171,56.883 468.171,56.883 468.171,68.979 \n",
       "  \"/>\n",
       "<g clip-path=\"url(#clip2400)\">\n",
       "<text style=\"fill:#000000; fill-opacity:1; font-family:Arial,Helvetica Neue,Helvetica,sans-serif; font-size:12; text-anchor:start;\" transform=\"rotate(0, 510.171, 67.431)\" x=\"510.171\" y=\"67.431\">banana</text>\n",
       "</g>\n",
       "</svg>\n"
      ]
     },
     "execution_count": 14,
     "metadata": {},
     "output_type": "execute_result"
    }
   ],
   "source": [
    "histogram(float.(green.(apple[:])),color=\"red\",label=\"apple\", normalize=true, nbins=25)\n",
    "histogram!(float.(green.(banana[:])),color=\"yellow\",label=\"banana\",normalize=true, nbins=25)"
   ]
  },
  {
   "cell_type": "code",
   "execution_count": 15,
   "metadata": {},
   "outputs": [
    {
     "data": {
      "image/png": "[encoded data removed]",
      "text/plain": [
       "100×100 Array{RGB{N0f8},2}:\n",
       " RGB{N0f8}(0.996,1.0,0.984)    …  RGB{N0f8}(1.0,1.0,1.0)\n",
       " RGB{N0f8}(0.984,1.0,0.988)       RGB{N0f8}(1.0,1.0,1.0)\n",
       " RGB{N0f8}(0.98,1.0,0.996)        RGB{N0f8}(1.0,1.0,1.0)\n",
       " RGB{N0f8}(0.969,1.0,0.992)       RGB{N0f8}(1.0,1.0,1.0)\n",
       " RGB{N0f8}(0.969,1.0,1.0)         RGB{N0f8}(1.0,1.0,1.0)\n",
       " RGB{N0f8}(0.98,1.0,1.0)       …  RGB{N0f8}(1.0,1.0,1.0)\n",
       " RGB{N0f8}(0.992,0.996,1.0)       RGB{N0f8}(1.0,1.0,1.0)\n",
       " RGB{N0f8}(1.0,0.992,1.0)         RGB{N0f8}(1.0,1.0,1.0)\n",
       " RGB{N0f8}(1.0,0.984,1.0)         RGB{N0f8}(1.0,1.0,1.0)\n",
       " RGB{N0f8}(1.0,0.984,1.0)         RGB{N0f8}(1.0,1.0,1.0)\n",
       " RGB{N0f8}(1.0,0.992,1.0)      …  RGB{N0f8}(1.0,1.0,1.0)\n",
       " RGB{N0f8}(1.0,0.996,1.0)         RGB{N0f8}(1.0,1.0,1.0)\n",
       " RGB{N0f8}(1.0,1.0,1.0)           RGB{N0f8}(1.0,1.0,1.0)\n",
       " ⋮                             ⋱                        \n",
       " RGB{N0f8}(0.992,1.0,0.988)       RGB{N0f8}(1.0,1.0,1.0)\n",
       " RGB{N0f8}(0.992,1.0,0.988)       RGB{N0f8}(1.0,1.0,1.0)\n",
       " RGB{N0f8}(0.992,1.0,0.996)    …  RGB{N0f8}(1.0,1.0,1.0)\n",
       " RGB{N0f8}(0.996,1.0,1.0)         RGB{N0f8}(1.0,1.0,1.0)\n",
       " RGB{N0f8}(0.996,0.996,0.996)     RGB{N0f8}(1.0,1.0,1.0)\n",
       " RGB{N0f8}(1.0,0.992,0.996)       RGB{N0f8}(1.0,1.0,1.0)\n",
       " RGB{N0f8}(1.0,0.992,0.996)       RGB{N0f8}(1.0,1.0,1.0)\n",
       " RGB{N0f8}(1.0,0.992,0.996)    …  RGB{N0f8}(1.0,1.0,1.0)\n",
       " RGB{N0f8}(1.0,0.996,1.0)         RGB{N0f8}(1.0,1.0,1.0)\n",
       " RGB{N0f8}(1.0,1.0,1.0)           RGB{N0f8}(1.0,1.0,1.0)\n",
       " RGB{N0f8}(1.0,1.0,1.0)           RGB{N0f8}(1.0,1.0,1.0)\n",
       " RGB{N0f8}(1.0,1.0,1.0)           RGB{N0f8}(1.0,1.0,1.0)"
      ]
     },
     "execution_count": 15,
     "metadata": {},
     "output_type": "execute_result"
    }
   ],
   "source": [
    "apple"
   ]
  },
  {
   "cell_type": "code",
   "execution_count": 16,
   "metadata": {},
   "outputs": [
    {
     "data": {
      "text/plain": [
       "0.61960787f0"
      ]
     },
     "execution_count": 16,
     "metadata": {},
     "output_type": "execute_result"
    }
   ],
   "source": [
    "float(red(banana[50,20]))"
   ]
  },
  {
   "cell_type": "code",
   "execution_count": 17,
   "metadata": {},
   "outputs": [
    {
     "data": {
      "image/svg+xml": [
       "<?xml version=\"1.0\" encoding=\"UTF-8\"?>\n",
       "<!DOCTYPE svg PUBLIC \"-//W3C//DTD SVG 1.1//EN\"\n",
       " \"http://www.w3.org/Graphics/SVG/1.1/DTD/svg11.dtd\">\n",
       "<svg xmlns=\"http://www.w3.org/2000/svg\" version=\"1.1\"\n",
       "     width=\"25mm\" height=\"25mm\" viewBox=\"0 0 1 1\">\n",
       "     <rect width=\"1\" height=\"1\"\n",
       "           fill=\"#9E831C\" stroke=\"none\"/>\n",
       "</svg>\n"
      ],
      "text/plain": [
       "RGB{N0f8}(0.62,0.514,0.11)"
      ]
     },
     "execution_count": 17,
     "metadata": {},
     "output_type": "execute_result"
    }
   ],
   "source": [
    "banana[50,20]"
   ]
  },
  {
   "cell_type": "code",
   "execution_count": 18,
   "metadata": {},
   "outputs": [
    {
     "name": "stdout",
     "output_type": "stream",
     "text": [
      "The RGB values are (0.5215686274509804, 0.09803921568627451, 0.050980392156862744)"
     ]
    }
   ],
   "source": [
    "pixel = apple[40, 60]\n",
    "\n",
    "red_value   = Float64( red(pixel) )\n",
    "green_value = Float64( green(pixel) )\n",
    "blue_value  = Float64( blue(pixel) )\n",
    "\n",
    "print(\"The RGB values are ($red_value, $green_value, $blue_value)\")"
   ]
  },
  {
   "cell_type": "markdown",
   "metadata": {},
   "source": [
    "Since the red value is high while the others are low, this means that at pixel `(40, 60)`, the picture of the apple is very red. If we do the same at one of the corners of the picture, we get the following:"
   ]
  },
  {
   "cell_type": "code",
   "execution_count": 19,
   "metadata": {},
   "outputs": [
    {
     "name": "stdout",
     "output_type": "stream",
     "text": [
      "The RGB values are (0.996078431372549, 1.0, 0.984313725490196)"
     ]
    }
   ],
   "source": [
    "pixel = apple[1, 1]\n",
    "\n",
    "red_value   = Float64( red(pixel) )\n",
    "green_value = Float64( green(pixel) )\n",
    "blue_value  = Float64( blue(pixel) )\n",
    "\n",
    "print(\"The RGB values are ($red_value, $green_value, $blue_value)\")"
   ]
  },
  {
   "cell_type": "code",
   "execution_count": 20,
   "metadata": {},
   "outputs": [
    {
     "data": {
      "image/png": "[encoded data removed]",
      "text/plain": [
       "100×100 Array{RGB{N0f8},2}:\n",
       " RGB{N0f8}(0.996,1.0,0.984)    …  RGB{N0f8}(1.0,1.0,1.0)\n",
       " RGB{N0f8}(0.984,1.0,0.988)       RGB{N0f8}(1.0,1.0,1.0)\n",
       " RGB{N0f8}(0.98,1.0,0.996)        RGB{N0f8}(1.0,1.0,1.0)\n",
       " RGB{N0f8}(0.969,1.0,0.992)       RGB{N0f8}(1.0,1.0,1.0)\n",
       " RGB{N0f8}(0.969,1.0,1.0)         RGB{N0f8}(1.0,1.0,1.0)\n",
       " RGB{N0f8}(0.98,1.0,1.0)       …  RGB{N0f8}(1.0,1.0,1.0)\n",
       " RGB{N0f8}(0.992,0.996,1.0)       RGB{N0f8}(1.0,1.0,1.0)\n",
       " RGB{N0f8}(1.0,0.992,1.0)         RGB{N0f8}(1.0,1.0,1.0)\n",
       " RGB{N0f8}(1.0,0.984,1.0)         RGB{N0f8}(1.0,1.0,1.0)\n",
       " RGB{N0f8}(1.0,0.984,1.0)         RGB{N0f8}(1.0,1.0,1.0)\n",
       " RGB{N0f8}(1.0,0.992,1.0)      …  RGB{N0f8}(1.0,1.0,1.0)\n",
       " RGB{N0f8}(1.0,0.996,1.0)         RGB{N0f8}(1.0,1.0,1.0)\n",
       " RGB{N0f8}(1.0,1.0,1.0)           RGB{N0f8}(1.0,1.0,1.0)\n",
       " ⋮                             ⋱                        \n",
       " RGB{N0f8}(0.992,1.0,0.988)       RGB{N0f8}(1.0,1.0,1.0)\n",
       " RGB{N0f8}(0.992,1.0,0.988)       RGB{N0f8}(1.0,1.0,1.0)\n",
       " RGB{N0f8}(0.992,1.0,0.996)    …  RGB{N0f8}(1.0,1.0,1.0)\n",
       " RGB{N0f8}(0.996,1.0,1.0)         RGB{N0f8}(1.0,1.0,1.0)\n",
       " RGB{N0f8}(0.996,0.996,0.996)     RGB{N0f8}(1.0,1.0,1.0)\n",
       " RGB{N0f8}(1.0,0.992,0.996)       RGB{N0f8}(1.0,1.0,1.0)\n",
       " RGB{N0f8}(1.0,0.992,0.996)       RGB{N0f8}(1.0,1.0,1.0)\n",
       " RGB{N0f8}(1.0,0.992,0.996)    …  RGB{N0f8}(1.0,1.0,1.0)\n",
       " RGB{N0f8}(1.0,0.996,1.0)         RGB{N0f8}(1.0,1.0,1.0)\n",
       " RGB{N0f8}(1.0,1.0,1.0)           RGB{N0f8}(1.0,1.0,1.0)\n",
       " RGB{N0f8}(1.0,1.0,1.0)           RGB{N0f8}(1.0,1.0,1.0)\n",
       " RGB{N0f8}(1.0,1.0,1.0)           RGB{N0f8}(1.0,1.0,1.0)"
      ]
     },
     "execution_count": 20,
     "metadata": {},
     "output_type": "execute_result"
    }
   ],
   "source": [
    "apple"
   ]
  },
  {
   "cell_type": "markdown",
   "metadata": {},
   "source": [
    "We see that every color is bright, which corresponds to white."
   ]
  },
  {
   "cell_type": "markdown",
   "metadata": {},
   "source": [
    "## Working on an image as a whole\n",
    "\n",
    "In Julia, to apply a function to the whole of an array, we place a `.` between the function name and the left parenthesis (`(`), so the following gives us the `red` value of every pixel in the image:"
   ]
  },
  {
   "cell_type": "code",
   "execution_count": 21,
   "metadata": {},
   "outputs": [
    {
     "data": {
      "text/plain": [
       "0.5701670588235295"
      ]
     },
     "execution_count": 21,
     "metadata": {},
     "output_type": "execute_result"
    }
   ],
   "source": [
    "redpartofapple = Float64.(red.(apple))\n",
    "mean(redpartofapple)"
   ]
  },
  {
   "cell_type": "code",
   "execution_count": 22,
   "metadata": {},
   "outputs": [],
   "source": [
    "using Plots"
   ]
  },
  {
   "cell_type": "code",
   "execution_count": 23,
   "metadata": {},
   "outputs": [
    {
     "data": {
      "text/plain": [
       "Plots.GRBackend()"
      ]
     },
     "execution_count": 23,
     "metadata": {},
     "output_type": "execute_result"
    }
   ],
   "source": [
    "gr()"
   ]
  },
  {
   "cell_type": "code",
   "execution_count": 24,
   "metadata": {},
   "outputs": [
    {
     "data": {
      "image/svg+xml": [
       "<?xml version=\"1.0\" encoding=\"utf-8\"?>\n",
       "<svg xmlns=\"http://www.w3.org/2000/svg\" xmlns:xlink=\"http://www.w3.org/1999/xlink\" width=\"600\" height=\"400\" viewBox=\"0 0 600 400\">\n",
       "<defs>\n",
       "  <clipPath id=\"clip2600\">\n",
       "    <rect x=\"0\" y=\"0\" width=\"600\" height=\"400\"/>\n",
       "  </clipPath>\n",
       "</defs>\n",
       "<polygon clip-path=\"url(#clip2600)\" points=\"\n",
       "0,400 600,400 600,0 0,0 \n",
       "  \" fill=\"#ffffff\" fill-opacity=\"1\"/>\n",
       "<defs>\n",
       "  <clipPath id=\"clip2601\">\n",
       "    <rect x=\"120\" y=\"0\" width=\"421\" height=\"400\"/>\n",
       "  </clipPath>\n",
       "</defs>\n",
       "<polygon clip-path=\"url(#clip2600)\" points=\"\n",
       "42.5104,375.869 580.315,375.869 580.315,11.811 42.5104,11.811 \n",
       "  \" fill=\"#ffffff\" fill-opacity=\"1\"/>\n",
       "<defs>\n",
       "  <clipPath id=\"clip2602\">\n",
       "    <rect x=\"42\" y=\"11\" width=\"539\" height=\"365\"/>\n",
       "  </clipPath>\n",
       "</defs>\n",
       "<polyline clip-path=\"url(#clip2602)\" style=\"stroke:#000000; stroke-width:0.5; stroke-opacity:0.1; fill:none\" points=\"\n",
       "  57.7313,375.869 57.7313,11.811 \n",
       "  \"/>\n",
       "<polyline clip-path=\"url(#clip2602)\" style=\"stroke:#000000; stroke-width:0.5; stroke-opacity:0.1; fill:none\" points=\"\n",
       "  178.532,375.869 178.532,11.811 \n",
       "  \"/>\n",
       "<polyline clip-path=\"url(#clip2602)\" style=\"stroke:#000000; stroke-width:0.5; stroke-opacity:0.1; fill:none\" points=\"\n",
       "  299.333,375.869 299.333,11.811 \n",
       "  \"/>\n",
       "<polyline clip-path=\"url(#clip2602)\" style=\"stroke:#000000; stroke-width:0.5; stroke-opacity:0.1; fill:none\" points=\"\n",
       "  420.133,375.869 420.133,11.811 \n",
       "  \"/>\n",
       "<polyline clip-path=\"url(#clip2602)\" style=\"stroke:#000000; stroke-width:0.5; stroke-opacity:0.1; fill:none\" points=\"\n",
       "  540.934,375.869 540.934,11.811 \n",
       "  \"/>\n",
       "<polyline clip-path=\"url(#clip2602)\" style=\"stroke:#000000; stroke-width:0.5; stroke-opacity:0.1; fill:none\" points=\"\n",
       "  42.5104,375.869 580.315,375.869 \n",
       "  \"/>\n",
       "<polyline clip-path=\"url(#clip2602)\" style=\"stroke:#000000; stroke-width:0.5; stroke-opacity:0.1; fill:none\" points=\"\n",
       "  42.5104,320.999 580.315,320.999 \n",
       "  \"/>\n",
       "<polyline clip-path=\"url(#clip2602)\" style=\"stroke:#000000; stroke-width:0.5; stroke-opacity:0.1; fill:none\" points=\"\n",
       "  42.5104,266.13 580.315,266.13 \n",
       "  \"/>\n",
       "<polyline clip-path=\"url(#clip2602)\" style=\"stroke:#000000; stroke-width:0.5; stroke-opacity:0.1; fill:none\" points=\"\n",
       "  42.5104,211.261 580.315,211.261 \n",
       "  \"/>\n",
       "<polyline clip-path=\"url(#clip2602)\" style=\"stroke:#000000; stroke-width:0.5; stroke-opacity:0.1; fill:none\" points=\"\n",
       "  42.5104,156.392 580.315,156.392 \n",
       "  \"/>\n",
       "<polyline clip-path=\"url(#clip2602)\" style=\"stroke:#000000; stroke-width:0.5; stroke-opacity:0.1; fill:none\" points=\"\n",
       "  42.5104,101.522 580.315,101.522 \n",
       "  \"/>\n",
       "<polyline clip-path=\"url(#clip2602)\" style=\"stroke:#000000; stroke-width:0.5; stroke-opacity:0.1; fill:none\" points=\"\n",
       "  42.5104,46.653 580.315,46.653 \n",
       "  \"/>\n",
       "<polyline clip-path=\"url(#clip2600)\" style=\"stroke:#000000; stroke-width:1; stroke-opacity:1; fill:none\" points=\"\n",
       "  42.5104,375.869 580.315,375.869 \n",
       "  \"/>\n",
       "<polyline clip-path=\"url(#clip2600)\" style=\"stroke:#000000; stroke-width:1; stroke-opacity:1; fill:none\" points=\"\n",
       "  42.5104,375.869 42.5104,11.811 \n",
       "  \"/>\n",
       "<polyline clip-path=\"url(#clip2600)\" style=\"stroke:#000000; stroke-width:1; stroke-opacity:1; fill:none\" points=\"\n",
       "  57.7313,375.869 57.7313,370.408 \n",
       "  \"/>\n",
       "<polyline clip-path=\"url(#clip2600)\" style=\"stroke:#000000; stroke-width:1; stroke-opacity:1; fill:none\" points=\"\n",
       "  178.532,375.869 178.532,370.408 \n",
       "  \"/>\n",
       "<polyline clip-path=\"url(#clip2600)\" style=\"stroke:#000000; stroke-width:1; stroke-opacity:1; fill:none\" points=\"\n",
       "  299.333,375.869 299.333,370.408 \n",
       "  \"/>\n",
       "<polyline clip-path=\"url(#clip2600)\" style=\"stroke:#000000; stroke-width:1; stroke-opacity:1; fill:none\" points=\"\n",
       "  420.133,375.869 420.133,370.408 \n",
       "  \"/>\n",
       "<polyline clip-path=\"url(#clip2600)\" style=\"stroke:#000000; stroke-width:1; stroke-opacity:1; fill:none\" points=\"\n",
       "  540.934,375.869 540.934,370.408 \n",
       "  \"/>\n",
       "<polyline clip-path=\"url(#clip2600)\" style=\"stroke:#000000; stroke-width:1; stroke-opacity:1; fill:none\" points=\"\n",
       "  42.5104,375.869 50.5774,375.869 \n",
       "  \"/>\n",
       "<polyline clip-path=\"url(#clip2600)\" style=\"stroke:#000000; stroke-width:1; stroke-opacity:1; fill:none\" points=\"\n",
       "  42.5104,320.999 50.5774,320.999 \n",
       "  \"/>\n",
       "<polyline clip-path=\"url(#clip2600)\" style=\"stroke:#000000; stroke-width:1; stroke-opacity:1; fill:none\" points=\"\n",
       "  42.5104,266.13 50.5774,266.13 \n",
       "  \"/>\n",
       "<polyline clip-path=\"url(#clip2600)\" style=\"stroke:#000000; stroke-width:1; stroke-opacity:1; fill:none\" points=\"\n",
       "  42.5104,211.261 50.5774,211.261 \n",
       "  \"/>\n",
       "<polyline clip-path=\"url(#clip2600)\" style=\"stroke:#000000; stroke-width:1; stroke-opacity:1; fill:none\" points=\"\n",
       "  42.5104,156.392 50.5774,156.392 \n",
       "  \"/>\n",
       "<polyline clip-path=\"url(#clip2600)\" style=\"stroke:#000000; stroke-width:1; stroke-opacity:1; fill:none\" points=\"\n",
       "  42.5104,101.522 50.5774,101.522 \n",
       "  \"/>\n",
       "<polyline clip-path=\"url(#clip2600)\" style=\"stroke:#000000; stroke-width:1; stroke-opacity:1; fill:none\" points=\"\n",
       "  42.5104,46.653 50.5774,46.653 \n",
       "  \"/>\n",
       "<g clip-path=\"url(#clip2600)\">\n",
       "<text style=\"fill:#000000; fill-opacity:1; font-family:Arial,Helvetica Neue,Helvetica,sans-serif; font-size:12; text-anchor:middle;\" transform=\"rotate(0, 57.7313, 389.669)\" x=\"57.7313\" y=\"389.669\">0.00</text>\n",
       "</g>\n",
       "<g clip-path=\"url(#clip2600)\">\n",
       "<text style=\"fill:#000000; fill-opacity:1; font-family:Arial,Helvetica Neue,Helvetica,sans-serif; font-size:12; text-anchor:middle;\" transform=\"rotate(0, 178.532, 389.669)\" x=\"178.532\" y=\"389.669\">0.25</text>\n",
       "</g>\n",
       "<g clip-path=\"url(#clip2600)\">\n",
       "<text style=\"fill:#000000; fill-opacity:1; font-family:Arial,Helvetica Neue,Helvetica,sans-serif; font-size:12; text-anchor:middle;\" transform=\"rotate(0, 299.333, 389.669)\" x=\"299.333\" y=\"389.669\">0.50</text>\n",
       "</g>\n",
       "<g clip-path=\"url(#clip2600)\">\n",
       "<text style=\"fill:#000000; fill-opacity:1; font-family:Arial,Helvetica Neue,Helvetica,sans-serif; font-size:12; text-anchor:middle;\" transform=\"rotate(0, 420.133, 389.669)\" x=\"420.133\" y=\"389.669\">0.75</text>\n",
       "</g>\n",
       "<g clip-path=\"url(#clip2600)\">\n",
       "<text style=\"fill:#000000; fill-opacity:1; font-family:Arial,Helvetica Neue,Helvetica,sans-serif; font-size:12; text-anchor:middle;\" transform=\"rotate(0, 540.934, 389.669)\" x=\"540.934\" y=\"389.669\">1.00</text>\n",
       "</g>\n",
       "<g clip-path=\"url(#clip2600)\">\n",
       "<text style=\"fill:#000000; fill-opacity:1; font-family:Arial,Helvetica Neue,Helvetica,sans-serif; font-size:12; text-anchor:end;\" transform=\"rotate(0, 36.5104, 380.369)\" x=\"36.5104\" y=\"380.369\">0</text>\n",
       "</g>\n",
       "<g clip-path=\"url(#clip2600)\">\n",
       "<text style=\"fill:#000000; fill-opacity:1; font-family:Arial,Helvetica Neue,Helvetica,sans-serif; font-size:12; text-anchor:end;\" transform=\"rotate(0, 36.5104, 325.499)\" x=\"36.5104\" y=\"325.499\">200</text>\n",
       "</g>\n",
       "<g clip-path=\"url(#clip2600)\">\n",
       "<text style=\"fill:#000000; fill-opacity:1; font-family:Arial,Helvetica Neue,Helvetica,sans-serif; font-size:12; text-anchor:end;\" transform=\"rotate(0, 36.5104, 270.63)\" x=\"36.5104\" y=\"270.63\">400</text>\n",
       "</g>\n",
       "<g clip-path=\"url(#clip2600)\">\n",
       "<text style=\"fill:#000000; fill-opacity:1; font-family:Arial,Helvetica Neue,Helvetica,sans-serif; font-size:12; text-anchor:end;\" transform=\"rotate(0, 36.5104, 215.761)\" x=\"36.5104\" y=\"215.761\">600</text>\n",
       "</g>\n",
       "<g clip-path=\"url(#clip2600)\">\n",
       "<text style=\"fill:#000000; fill-opacity:1; font-family:Arial,Helvetica Neue,Helvetica,sans-serif; font-size:12; text-anchor:end;\" transform=\"rotate(0, 36.5104, 160.892)\" x=\"36.5104\" y=\"160.892\">800</text>\n",
       "</g>\n",
       "<g clip-path=\"url(#clip2600)\">\n",
       "<text style=\"fill:#000000; fill-opacity:1; font-family:Arial,Helvetica Neue,Helvetica,sans-serif; font-size:12; text-anchor:end;\" transform=\"rotate(0, 36.5104, 106.022)\" x=\"36.5104\" y=\"106.022\">1000</text>\n",
       "</g>\n",
       "<g clip-path=\"url(#clip2600)\">\n",
       "<text style=\"fill:#000000; fill-opacity:1; font-family:Arial,Helvetica Neue,Helvetica,sans-serif; font-size:12; text-anchor:end;\" transform=\"rotate(0, 36.5104, 51.153)\" x=\"36.5104\" y=\"51.153\">1200</text>\n",
       "</g>\n",
       "<polygon clip-path=\"url(#clip2602)\" points=\"\n",
       "57.7313,375.594 57.7313,375.869 81.8914,375.869 81.8914,375.594 57.7313,375.594 57.7313,375.594 \n",
       "  \" fill=\"#ff0000\" fill-opacity=\"1\"/>\n",
       "<polyline clip-path=\"url(#clip2602)\" style=\"stroke:#000000; stroke-width:1; stroke-opacity:1; fill:none\" points=\"\n",
       "  57.7313,375.594 57.7313,375.869 81.8914,375.869 81.8914,375.594 57.7313,375.594 \n",
       "  \"/>\n",
       "<polygon clip-path=\"url(#clip2602)\" points=\"\n",
       "81.8914,238.695 81.8914,375.869 106.052,375.869 106.052,238.695 81.8914,238.695 81.8914,238.695 \n",
       "  \" fill=\"#ff0000\" fill-opacity=\"1\"/>\n",
       "<polyline clip-path=\"url(#clip2602)\" style=\"stroke:#000000; stroke-width:1; stroke-opacity:1; fill:none\" points=\"\n",
       "  81.8914,238.695 81.8914,375.869 106.052,375.869 106.052,238.695 81.8914,238.695 \n",
       "  \"/>\n",
       "<polygon clip-path=\"url(#clip2602)\" points=\"\n",
       "106.052,240.067 106.052,375.869 130.212,375.869 130.212,240.067 106.052,240.067 106.052,240.067 \n",
       "  \" fill=\"#ff0000\" fill-opacity=\"1\"/>\n",
       "<polyline clip-path=\"url(#clip2602)\" style=\"stroke:#000000; stroke-width:1; stroke-opacity:1; fill:none\" points=\"\n",
       "  106.052,240.067 106.052,375.869 130.212,375.869 130.212,240.067 106.052,240.067 \n",
       "  \"/>\n",
       "<polygon clip-path=\"url(#clip2602)\" points=\"\n",
       "130.212,269.697 130.212,375.869 154.372,375.869 154.372,269.697 130.212,269.697 130.212,269.697 \n",
       "  \" fill=\"#ff0000\" fill-opacity=\"1\"/>\n",
       "<polyline clip-path=\"url(#clip2602)\" style=\"stroke:#000000; stroke-width:1; stroke-opacity:1; fill:none\" points=\"\n",
       "  130.212,269.697 130.212,375.869 154.372,375.869 154.372,269.697 130.212,269.697 \n",
       "  \"/>\n",
       "<polygon clip-path=\"url(#clip2602)\" points=\"\n",
       "154.372,268.599 154.372,375.869 178.532,375.869 178.532,268.599 154.372,268.599 154.372,268.599 \n",
       "  \" fill=\"#ff0000\" fill-opacity=\"1\"/>\n",
       "<polyline clip-path=\"url(#clip2602)\" style=\"stroke:#000000; stroke-width:1; stroke-opacity:1; fill:none\" points=\"\n",
       "  154.372,268.599 154.372,375.869 178.532,375.869 178.532,268.599 154.372,268.599 \n",
       "  \"/>\n",
       "<polygon clip-path=\"url(#clip2602)\" points=\"\n",
       "178.532,264.21 178.532,375.869 202.692,375.869 202.692,264.21 178.532,264.21 178.532,264.21 \n",
       "  \" fill=\"#ff0000\" fill-opacity=\"1\"/>\n",
       "<polyline clip-path=\"url(#clip2602)\" style=\"stroke:#000000; stroke-width:1; stroke-opacity:1; fill:none\" points=\"\n",
       "  178.532,264.21 178.532,375.869 202.692,375.869 202.692,264.21 178.532,264.21 \n",
       "  \"/>\n",
       "<polygon clip-path=\"url(#clip2602)\" points=\"\n",
       "202.692,257.077 202.692,375.869 226.852,375.869 226.852,257.077 202.692,257.077 202.692,257.077 \n",
       "  \" fill=\"#ff0000\" fill-opacity=\"1\"/>\n",
       "<polyline clip-path=\"url(#clip2602)\" style=\"stroke:#000000; stroke-width:1; stroke-opacity:1; fill:none\" points=\"\n",
       "  202.692,257.077 202.692,375.869 226.852,375.869 226.852,257.077 202.692,257.077 \n",
       "  \"/>\n",
       "<polygon clip-path=\"url(#clip2602)\" points=\"\n",
       "226.852,246.926 226.852,375.869 251.012,375.869 251.012,246.926 226.852,246.926 226.852,246.926 \n",
       "  \" fill=\"#ff0000\" fill-opacity=\"1\"/>\n",
       "<polyline clip-path=\"url(#clip2602)\" style=\"stroke:#000000; stroke-width:1; stroke-opacity:1; fill:none\" points=\"\n",
       "  226.852,246.926 226.852,375.869 251.012,375.869 251.012,246.926 226.852,246.926 \n",
       "  \"/>\n",
       "<polygon clip-path=\"url(#clip2602)\" points=\"\n",
       "251.012,223.332 251.012,375.869 275.172,375.869 275.172,223.332 251.012,223.332 251.012,223.332 \n",
       "  \" fill=\"#ff0000\" fill-opacity=\"1\"/>\n",
       "<polyline clip-path=\"url(#clip2602)\" style=\"stroke:#000000; stroke-width:1; stroke-opacity:1; fill:none\" points=\"\n",
       "  251.012,223.332 251.012,375.869 275.172,375.869 275.172,223.332 251.012,223.332 \n",
       "  \"/>\n",
       "<polygon clip-path=\"url(#clip2602)\" points=\"\n",
       "275.172,215.102 275.172,375.869 299.333,375.869 299.333,215.102 275.172,215.102 275.172,215.102 \n",
       "  \" fill=\"#ff0000\" fill-opacity=\"1\"/>\n",
       "<polyline clip-path=\"url(#clip2602)\" style=\"stroke:#000000; stroke-width:1; stroke-opacity:1; fill:none\" points=\"\n",
       "  275.172,215.102 275.172,375.869 299.333,375.869 299.333,215.102 275.172,215.102 \n",
       "  \"/>\n",
       "<polygon clip-path=\"url(#clip2602)\" points=\"\n",
       "299.333,175.87 299.333,375.869 323.493,375.869 323.493,175.87 299.333,175.87 299.333,175.87 \n",
       "  \" fill=\"#ff0000\" fill-opacity=\"1\"/>\n",
       "<polyline clip-path=\"url(#clip2602)\" style=\"stroke:#000000; stroke-width:1; stroke-opacity:1; fill:none\" points=\"\n",
       "  299.333,175.87 299.333,375.869 323.493,375.869 323.493,175.87 299.333,175.87 \n",
       "  \"/>\n",
       "<polygon clip-path=\"url(#clip2602)\" points=\"\n",
       "323.493,157.489 323.493,375.869 347.653,375.869 347.653,157.489 323.493,157.489 323.493,157.489 \n",
       "  \" fill=\"#ff0000\" fill-opacity=\"1\"/>\n",
       "<polyline clip-path=\"url(#clip2602)\" style=\"stroke:#000000; stroke-width:1; stroke-opacity:1; fill:none\" points=\"\n",
       "  323.493,157.489 323.493,375.869 347.653,375.869 347.653,157.489 323.493,157.489 \n",
       "  \"/>\n",
       "<polygon clip-path=\"url(#clip2602)\" points=\"\n",
       "347.653,173.95 347.653,375.869 371.813,375.869 371.813,173.95 347.653,173.95 347.653,173.95 \n",
       "  \" fill=\"#ff0000\" fill-opacity=\"1\"/>\n",
       "<polyline clip-path=\"url(#clip2602)\" style=\"stroke:#000000; stroke-width:1; stroke-opacity:1; fill:none\" points=\"\n",
       "  347.653,173.95 347.653,375.869 371.813,375.869 371.813,173.95 347.653,173.95 \n",
       "  \"/>\n",
       "<polygon clip-path=\"url(#clip2602)\" points=\"\n",
       "371.813,240.067 371.813,375.869 395.973,375.869 395.973,240.067 371.813,240.067 371.813,240.067 \n",
       "  \" fill=\"#ff0000\" fill-opacity=\"1\"/>\n",
       "<polyline clip-path=\"url(#clip2602)\" style=\"stroke:#000000; stroke-width:1; stroke-opacity:1; fill:none\" points=\"\n",
       "  371.813,240.067 371.813,375.869 395.973,375.869 395.973,240.067 371.813,240.067 \n",
       "  \"/>\n",
       "<polygon clip-path=\"url(#clip2602)\" points=\"\n",
       "395.973,298.229 395.973,375.869 420.133,375.869 420.133,298.229 395.973,298.229 395.973,298.229 \n",
       "  \" fill=\"#ff0000\" fill-opacity=\"1\"/>\n",
       "<polyline clip-path=\"url(#clip2602)\" style=\"stroke:#000000; stroke-width:1; stroke-opacity:1; fill:none\" points=\"\n",
       "  395.973,298.229 395.973,375.869 420.133,375.869 420.133,298.229 395.973,298.229 \n",
       "  \"/>\n",
       "<polygon clip-path=\"url(#clip2602)\" points=\"\n",
       "420.133,342.673 420.133,375.869 444.293,375.869 444.293,342.673 420.133,342.673 420.133,342.673 \n",
       "  \" fill=\"#ff0000\" fill-opacity=\"1\"/>\n",
       "<polyline clip-path=\"url(#clip2602)\" style=\"stroke:#000000; stroke-width:1; stroke-opacity:1; fill:none\" points=\"\n",
       "  420.133,342.673 420.133,375.869 444.293,375.869 444.293,342.673 420.133,342.673 \n",
       "  \"/>\n",
       "<polygon clip-path=\"url(#clip2602)\" points=\"\n",
       "444.293,353.921 444.293,375.869 468.454,375.869 468.454,353.921 444.293,353.921 444.293,353.921 \n",
       "  \" fill=\"#ff0000\" fill-opacity=\"1\"/>\n",
       "<polyline clip-path=\"url(#clip2602)\" style=\"stroke:#000000; stroke-width:1; stroke-opacity:1; fill:none\" points=\"\n",
       "  444.293,353.921 444.293,375.869 468.454,375.869 468.454,353.921 444.293,353.921 \n",
       "  \"/>\n",
       "<polygon clip-path=\"url(#clip2602)\" points=\"\n",
       "468.454,340.752 468.454,375.869 492.614,375.869 492.614,340.752 468.454,340.752 468.454,340.752 \n",
       "  \" fill=\"#ff0000\" fill-opacity=\"1\"/>\n",
       "<polyline clip-path=\"url(#clip2602)\" style=\"stroke:#000000; stroke-width:1; stroke-opacity:1; fill:none\" points=\"\n",
       "  468.454,340.752 468.454,375.869 492.614,375.869 492.614,340.752 468.454,340.752 \n",
       "  \"/>\n",
       "<polygon clip-path=\"url(#clip2602)\" points=\"\n",
       "492.614,360.505 492.614,375.869 516.774,375.869 516.774,360.505 492.614,360.505 492.614,360.505 \n",
       "  \" fill=\"#ff0000\" fill-opacity=\"1\"/>\n",
       "<polyline clip-path=\"url(#clip2602)\" style=\"stroke:#000000; stroke-width:1; stroke-opacity:1; fill:none\" points=\"\n",
       "  492.614,360.505 492.614,375.869 516.774,375.869 516.774,360.505 492.614,360.505 \n",
       "  \"/>\n",
       "<polygon clip-path=\"url(#clip2602)\" points=\"\n",
       "516.774,95.2123 516.774,375.869 540.934,375.869 540.934,95.2123 516.774,95.2123 516.774,95.2123 \n",
       "  \" fill=\"#ff0000\" fill-opacity=\"1\"/>\n",
       "<polyline clip-path=\"url(#clip2602)\" style=\"stroke:#000000; stroke-width:1; stroke-opacity:1; fill:none\" points=\"\n",
       "  516.774,95.2123 516.774,375.869 540.934,375.869 540.934,95.2123 516.774,95.2123 \n",
       "  \"/>\n",
       "<polygon clip-path=\"url(#clip2602)\" points=\"\n",
       "540.934,11.811 540.934,375.869 565.094,375.869 565.094,11.811 540.934,11.811 540.934,11.811 \n",
       "  \" fill=\"#ff0000\" fill-opacity=\"1\"/>\n",
       "<polyline clip-path=\"url(#clip2602)\" style=\"stroke:#000000; stroke-width:1; stroke-opacity:1; fill:none\" points=\"\n",
       "  540.934,11.811 540.934,375.869 565.094,375.869 565.094,11.811 540.934,11.811 \n",
       "  \"/>\n",
       "<polygon clip-path=\"url(#clip2600)\" points=\"\n",
       "393.954,62.931 562.315,62.931 562.315,32.691 393.954,32.691 \n",
       "  \" fill=\"#ffffff\" fill-opacity=\"1\"/>\n",
       "<polyline clip-path=\"url(#clip2600)\" style=\"stroke:#000000; stroke-width:1; stroke-opacity:1; fill:none\" points=\"\n",
       "  393.954,62.931 562.315,62.931 562.315,32.691 393.954,32.691 393.954,62.931 \n",
       "  \"/>\n",
       "<polygon clip-path=\"url(#clip2600)\" points=\"\n",
       "399.954,53.859 435.954,53.859 435.954,41.763 399.954,41.763 399.954,53.859 \n",
       "  \" fill=\"#ff0000\" fill-opacity=\"1\"/>\n",
       "<polyline clip-path=\"url(#clip2600)\" style=\"stroke:#000000; stroke-width:1; stroke-opacity:1; fill:none\" points=\"\n",
       "  399.954,53.859 435.954,53.859 435.954,41.763 399.954,41.763 399.954,53.859 \n",
       "  \"/>\n",
       "<g clip-path=\"url(#clip2600)\">\n",
       "<text style=\"fill:#000000; fill-opacity:1; font-family:Arial,Helvetica Neue,Helvetica,sans-serif; font-size:12; text-anchor:start;\" transform=\"rotate(0, 441.954, 52.311)\" x=\"441.954\" y=\"52.311\">redness in the apple</text>\n",
       "</g>\n",
       "</svg>\n"
      ]
     },
     "execution_count": 24,
     "metadata": {},
     "output_type": "execute_result"
    }
   ],
   "source": [
    "histogram(redpartofapple[:],color=:red,label=\"redness in the apple\")"
   ]
  },
  {
   "cell_type": "markdown",
   "metadata": {},
   "source": [
    "Note that we get a 2D array (matrix) back."
   ]
  },
  {
   "cell_type": "markdown",
   "metadata": {},
   "source": [
    "Julia's [mathematical standard library](https://docs.julialang.org/en/stable/stdlib/math/#Mathematics-1) has many mathematical functions built in. One of them is the `mean` function, which computes the average value. If we apply this to our apple:"
   ]
  },
  {
   "cell_type": "code",
   "execution_count": 25,
   "metadata": {},
   "outputs": [
    {
     "data": {
      "text/plain": [
       "0.5701670588235295"
      ]
     },
     "execution_count": 25,
     "metadata": {},
     "output_type": "execute_result"
    }
   ],
   "source": [
    "mean(Float64.(red.(apple)))"
   ]
  },
  {
   "cell_type": "markdown",
   "metadata": {},
   "source": [
    "we see that the value indicates that the average amount of red in the image is a value between the amount of red in the apple and the amount of red in the white background. \n",
    "\n",
    "*Somehow we need to teach a computer to use this information about a picture to recognize that there's an apple there!*"
   ]
  },
  {
   "cell_type": "markdown",
   "metadata": {},
   "source": [
    "## A quick riddle\n",
    "\n",
    "Here's a quick riddle. Let's check the average value of red in the image of the banana."
   ]
  },
  {
   "cell_type": "code",
   "execution_count": 26,
   "metadata": {},
   "outputs": [
    {
     "data": {
      "text/plain": [
       "0.904001568627451"
      ]
     },
     "execution_count": 26,
     "metadata": {},
     "output_type": "execute_result"
    }
   ],
   "source": [
    "mean(Float64.(red.(banana)))"
   ]
  },
  {
   "cell_type": "markdown",
   "metadata": {},
   "source": [
    "Oh no, that's more red than our apple? This isn't a mistake and is actually true! Before you move onto the next exercise, examine the images of the apple and the banana very carefully and see if you can explain why this is expected."
   ]
  },
  {
   "cell_type": "markdown",
   "metadata": {},
   "source": [
    "#### Exercise 1\n",
    "\n",
    "What is the average value of blue in the banana?\n",
    "\n",
    "(To open a new box use <ESC>+b (b is for \"below\", what do you think a does?))"
   ]
  },
  {
   "cell_type": "code",
   "execution_count": 27,
   "metadata": {},
   "outputs": [
    {
     "data": {
      "text/plain": [
       "0.8001596078431372"
      ]
     },
     "execution_count": 27,
     "metadata": {},
     "output_type": "execute_result"
    }
   ],
   "source": [
    "mean(Float64.(blue.(banana)))"
   ]
  },
  {
   "cell_type": "markdown",
   "metadata": {},
   "source": [
    "#### Solution\n",
    "\n",
    "We can calculate the average value of blue in the banana via"
   ]
  },
  {
   "cell_type": "markdown",
   "metadata": {},
   "source": [
    "mean(Float64.(blue.(banana)))"
   ]
  },
  {
   "cell_type": "markdown",
   "metadata": {},
   "source": [
    "The result is `0.8001251`."
   ]
  },
  {
   "cell_type": "markdown",
   "metadata": {},
   "source": [
    "#### Exercise 2\n",
    "\n",
    "Does the banana have more blue or more green?"
   ]
  },
  {
   "cell_type": "markdown",
   "metadata": {},
   "source": [
    "#### Solution\n",
    "\n",
    "The average value of green in the banana is"
   ]
  },
  {
   "cell_type": "code",
   "execution_count": 28,
   "metadata": {},
   "outputs": [
    {
     "data": {
      "text/plain": [
       "0.8807972549019607"
      ]
     },
     "execution_count": 28,
     "metadata": {},
     "output_type": "execute_result"
    }
   ],
   "source": [
    "mean(Float64.(green.(banana)))"
   ]
  },
  {
   "cell_type": "markdown",
   "metadata": {},
   "source": [
    "which gives `0.8808208f0`. The banana has more green on average."
   ]
  }
 ],
 "metadata": {
  "kernelspec": {
   "display_name": "Julia 0.6.4-pre",
   "language": "julia",
   "name": "julia-0.6"
  },
  "language_info": {
   "file_extension": ".jl",
   "mimetype": "application/julia",
   "name": "julia",
   "version": "0.6.4"
  }
 },
 "nbformat": 4,
 "nbformat_minor": 2
}
